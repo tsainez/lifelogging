{
 "cells": [
  {
   "cell_type": "markdown",
   "metadata": {},
   "source": [
    "# Regression"
   ]
  },
  {
   "cell_type": "markdown",
   "metadata": {},
   "source": [
    "## Data pre-processing\n",
    "First we have to get the data and manipulate it to be able to fit into whichever models we want. "
   ]
  },
  {
   "cell_type": "code",
   "execution_count": 57,
   "metadata": {},
   "outputs": [
    {
     "data": {
      "text/html": [
       "<div>\n",
       "<style scoped>\n",
       "    .dataframe tbody tr th:only-of-type {\n",
       "        vertical-align: middle;\n",
       "    }\n",
       "\n",
       "    .dataframe tbody tr th {\n",
       "        vertical-align: top;\n",
       "    }\n",
       "\n",
       "    .dataframe thead th {\n",
       "        text-align: right;\n",
       "    }\n",
       "</style>\n",
       "<table border=\"1\" class=\"dataframe\">\n",
       "  <thead>\n",
       "    <tr style=\"text-align: right;\">\n",
       "      <th></th>\n",
       "      <th>tag_id</th>\n",
       "      <th>step</th>\n",
       "      <th>battery_low</th>\n",
       "      <th>depression_score</th>\n",
       "    </tr>\n",
       "  </thead>\n",
       "  <tbody>\n",
       "    <tr>\n",
       "      <th>0</th>\n",
       "      <td>20.0</td>\n",
       "      <td>4060</td>\n",
       "      <td>36</td>\n",
       "      <td>0.500</td>\n",
       "    </tr>\n",
       "    <tr>\n",
       "      <th>1</th>\n",
       "      <td>2.0</td>\n",
       "      <td>10</td>\n",
       "      <td>9</td>\n",
       "      <td>0.500</td>\n",
       "    </tr>\n",
       "    <tr>\n",
       "      <th>2</th>\n",
       "      <td>2.0</td>\n",
       "      <td>57</td>\n",
       "      <td>7</td>\n",
       "      <td>0.500</td>\n",
       "    </tr>\n",
       "    <tr>\n",
       "      <th>3</th>\n",
       "      <td>2.0</td>\n",
       "      <td>72</td>\n",
       "      <td>5</td>\n",
       "      <td>0.500</td>\n",
       "    </tr>\n",
       "    <tr>\n",
       "      <th>4</th>\n",
       "      <td>0.0</td>\n",
       "      <td>89</td>\n",
       "      <td>24</td>\n",
       "      <td>0.500</td>\n",
       "    </tr>\n",
       "    <tr>\n",
       "      <th>...</th>\n",
       "      <td>...</td>\n",
       "      <td>...</td>\n",
       "      <td>...</td>\n",
       "      <td>...</td>\n",
       "    </tr>\n",
       "    <tr>\n",
       "      <th>289224</th>\n",
       "      <td>12.0</td>\n",
       "      <td>745</td>\n",
       "      <td>50</td>\n",
       "      <td>0.625</td>\n",
       "    </tr>\n",
       "    <tr>\n",
       "      <th>289225</th>\n",
       "      <td>0.0</td>\n",
       "      <td>832</td>\n",
       "      <td>48</td>\n",
       "      <td>0.625</td>\n",
       "    </tr>\n",
       "    <tr>\n",
       "      <th>289226</th>\n",
       "      <td>0.0</td>\n",
       "      <td>841</td>\n",
       "      <td>47</td>\n",
       "      <td>0.625</td>\n",
       "    </tr>\n",
       "    <tr>\n",
       "      <th>289227</th>\n",
       "      <td>2.0</td>\n",
       "      <td>855</td>\n",
       "      <td>47</td>\n",
       "      <td>0.625</td>\n",
       "    </tr>\n",
       "    <tr>\n",
       "      <th>289228</th>\n",
       "      <td>2.0</td>\n",
       "      <td>879</td>\n",
       "      <td>47</td>\n",
       "      <td>0.625</td>\n",
       "    </tr>\n",
       "  </tbody>\n",
       "</table>\n",
       "<p>289229 rows × 4 columns</p>\n",
       "</div>"
      ],
      "text/plain": [
       "        tag_id  step  battery_low  depression_score\n",
       "0         20.0  4060           36             0.500\n",
       "1          2.0    10            9             0.500\n",
       "2          2.0    57            7             0.500\n",
       "3          2.0    72            5             0.500\n",
       "4          0.0    89           24             0.500\n",
       "...        ...   ...          ...               ...\n",
       "289224    12.0   745           50             0.625\n",
       "289225     0.0   832           48             0.625\n",
       "289226     0.0   841           47             0.625\n",
       "289227     2.0   855           47             0.625\n",
       "289228     2.0   879           47             0.625\n",
       "\n",
       "[289229 rows x 4 columns]"
      ]
     },
     "execution_count": 57,
     "metadata": {},
     "output_type": "execute_result"
    }
   ],
   "source": [
    "import pandas as pd\n",
    "\n",
    "# Get the data\n",
    "device_uplink = pd.read_csv('device_uplink.csv')\n",
    "\n",
    "# Mark all NaN cases as zero, they'll get dropped when we create the dummy variables. \n",
    "device_uplink.tag_id = device_uplink.tag_id.fillna(value=0)\n",
    "\n",
    "# Also don't want any negative step counts, since that doesn't make sense. \n",
    "device_uplink = device_uplink[device_uplink['step'] >= 0 ]\n",
    "\n",
    "user_information = pd.read_csv('user_information.csv')\n",
    "\n",
    "# This is a useful helper function that we will reuse several times later. \n",
    "def getRawData():\n",
    "    return pd.merge(device_uplink, user_information, left_on='owner_id', right_on='user_id', how='inner')\n",
    "\n",
    "# Only include the data we want to train the models on... \n",
    "data = getRawData()\n",
    "data = data[['tag_id', 'step', 'battery_low', 'depression_score']]\n",
    "\n",
    "data"
   ]
  },
  {
   "cell_type": "code",
   "execution_count": 58,
   "metadata": {},
   "outputs": [],
   "source": [
    "# This helper function is another part of the data preprocessing. \n",
    "def create_x_y(data):\n",
    "    x = pd.get_dummies(data['tag_id'], drop_first=True)\n",
    "\n",
    "    # During forward selection, all column names must be of type 'str'\n",
    "    x.columns = x.columns.astype(str)\n",
    "\n",
    "    # On my machine, for some reason it removes all the other columns when I create the dummies,\n",
    "    # So I have to add them back really quickly. \n",
    "    temp = data[['step', 'battery_low']]\n",
    "    x = pd.concat([x, temp], axis=1, join='outer')\n",
    "\n",
    "    y = data['depression_score']\n",
    "    return x, y\n",
    "\n",
    "x, y = create_x_y(data)"
   ]
  },
  {
   "cell_type": "code",
   "execution_count": 59,
   "metadata": {},
   "outputs": [
    {
     "data": {
      "text/html": [
       "<div>\n",
       "<style scoped>\n",
       "    .dataframe tbody tr th:only-of-type {\n",
       "        vertical-align: middle;\n",
       "    }\n",
       "\n",
       "    .dataframe tbody tr th {\n",
       "        vertical-align: top;\n",
       "    }\n",
       "\n",
       "    .dataframe thead th {\n",
       "        text-align: right;\n",
       "    }\n",
       "</style>\n",
       "<table border=\"1\" class=\"dataframe\">\n",
       "  <thead>\n",
       "    <tr style=\"text-align: right;\">\n",
       "      <th></th>\n",
       "      <th>1.0</th>\n",
       "      <th>2.0</th>\n",
       "      <th>3.0</th>\n",
       "      <th>4.0</th>\n",
       "      <th>5.0</th>\n",
       "      <th>6.0</th>\n",
       "      <th>7.0</th>\n",
       "      <th>8.0</th>\n",
       "      <th>9.0</th>\n",
       "      <th>10.0</th>\n",
       "      <th>11.0</th>\n",
       "      <th>12.0</th>\n",
       "      <th>19.0</th>\n",
       "      <th>20.0</th>\n",
       "      <th>step</th>\n",
       "      <th>battery_low</th>\n",
       "    </tr>\n",
       "  </thead>\n",
       "  <tbody>\n",
       "    <tr>\n",
       "      <th>0</th>\n",
       "      <td>0</td>\n",
       "      <td>0</td>\n",
       "      <td>0</td>\n",
       "      <td>0</td>\n",
       "      <td>0</td>\n",
       "      <td>0</td>\n",
       "      <td>0</td>\n",
       "      <td>0</td>\n",
       "      <td>0</td>\n",
       "      <td>0</td>\n",
       "      <td>0</td>\n",
       "      <td>0</td>\n",
       "      <td>0</td>\n",
       "      <td>1</td>\n",
       "      <td>4060</td>\n",
       "      <td>36</td>\n",
       "    </tr>\n",
       "    <tr>\n",
       "      <th>1</th>\n",
       "      <td>0</td>\n",
       "      <td>1</td>\n",
       "      <td>0</td>\n",
       "      <td>0</td>\n",
       "      <td>0</td>\n",
       "      <td>0</td>\n",
       "      <td>0</td>\n",
       "      <td>0</td>\n",
       "      <td>0</td>\n",
       "      <td>0</td>\n",
       "      <td>0</td>\n",
       "      <td>0</td>\n",
       "      <td>0</td>\n",
       "      <td>0</td>\n",
       "      <td>10</td>\n",
       "      <td>9</td>\n",
       "    </tr>\n",
       "    <tr>\n",
       "      <th>2</th>\n",
       "      <td>0</td>\n",
       "      <td>1</td>\n",
       "      <td>0</td>\n",
       "      <td>0</td>\n",
       "      <td>0</td>\n",
       "      <td>0</td>\n",
       "      <td>0</td>\n",
       "      <td>0</td>\n",
       "      <td>0</td>\n",
       "      <td>0</td>\n",
       "      <td>0</td>\n",
       "      <td>0</td>\n",
       "      <td>0</td>\n",
       "      <td>0</td>\n",
       "      <td>57</td>\n",
       "      <td>7</td>\n",
       "    </tr>\n",
       "    <tr>\n",
       "      <th>3</th>\n",
       "      <td>0</td>\n",
       "      <td>1</td>\n",
       "      <td>0</td>\n",
       "      <td>0</td>\n",
       "      <td>0</td>\n",
       "      <td>0</td>\n",
       "      <td>0</td>\n",
       "      <td>0</td>\n",
       "      <td>0</td>\n",
       "      <td>0</td>\n",
       "      <td>0</td>\n",
       "      <td>0</td>\n",
       "      <td>0</td>\n",
       "      <td>0</td>\n",
       "      <td>72</td>\n",
       "      <td>5</td>\n",
       "    </tr>\n",
       "    <tr>\n",
       "      <th>4</th>\n",
       "      <td>0</td>\n",
       "      <td>0</td>\n",
       "      <td>0</td>\n",
       "      <td>0</td>\n",
       "      <td>0</td>\n",
       "      <td>0</td>\n",
       "      <td>0</td>\n",
       "      <td>0</td>\n",
       "      <td>0</td>\n",
       "      <td>0</td>\n",
       "      <td>0</td>\n",
       "      <td>0</td>\n",
       "      <td>0</td>\n",
       "      <td>0</td>\n",
       "      <td>89</td>\n",
       "      <td>24</td>\n",
       "    </tr>\n",
       "  </tbody>\n",
       "</table>\n",
       "</div>"
      ],
      "text/plain": [
       "   1.0  2.0  3.0  4.0  5.0  6.0  7.0  8.0  9.0  10.0  11.0  12.0  19.0  20.0  \\\n",
       "0    0    0    0    0    0    0    0    0    0     0     0     0     0     1   \n",
       "1    0    1    0    0    0    0    0    0    0     0     0     0     0     0   \n",
       "2    0    1    0    0    0    0    0    0    0     0     0     0     0     0   \n",
       "3    0    1    0    0    0    0    0    0    0     0     0     0     0     0   \n",
       "4    0    0    0    0    0    0    0    0    0     0     0     0     0     0   \n",
       "\n",
       "   step  battery_low  \n",
       "0  4060           36  \n",
       "1    10            9  \n",
       "2    57            7  \n",
       "3    72            5  \n",
       "4    89           24  "
      ]
     },
     "execution_count": 59,
     "metadata": {},
     "output_type": "execute_result"
    }
   ],
   "source": [
    "x.head()"
   ]
  },
  {
   "cell_type": "code",
   "execution_count": 60,
   "metadata": {},
   "outputs": [
    {
     "data": {
      "text/plain": [
       "0    0.5\n",
       "1    0.5\n",
       "2    0.5\n",
       "3    0.5\n",
       "4    0.5\n",
       "Name: depression_score, dtype: float64"
      ]
     },
     "execution_count": 60,
     "metadata": {},
     "output_type": "execute_result"
    }
   ],
   "source": [
    "y.head()"
   ]
  },
  {
   "cell_type": "code",
   "execution_count": 61,
   "metadata": {},
   "outputs": [],
   "source": [
    "from sklearn.model_selection import train_test_split\n",
    "from sklearn.linear_model import LinearRegression\n",
    "\n",
    "train_x, valid_x, train_y, valid_y = train_test_split(x, y, test_size=0.4, random_state=1)\n",
    "\n",
    "# The most basic model you can produce...\n",
    "model = LinearRegression().fit(train_x, train_y)"
   ]
  },
  {
   "cell_type": "markdown",
   "metadata": {},
   "source": [
    "Now, we have to assess how the model performs. There's a few metrics we can look at. This is what the book mentions."
   ]
  },
  {
   "cell_type": "code",
   "execution_count": 62,
   "metadata": {},
   "outputs": [
    {
     "name": "stdout",
     "output_type": "stream",
     "text": [
      "      Predictor  coefficient\n",
      "0           1.0    -0.032816\n",
      "1           2.0    -0.007450\n",
      "2           3.0     0.025046\n",
      "3           4.0    -0.057082\n",
      "4           5.0    -0.133114\n",
      "5           6.0    -0.000682\n",
      "6           7.0    -0.179468\n",
      "7           8.0    -0.313941\n",
      "8           9.0    -0.018188\n",
      "9          10.0    -0.034575\n",
      "10         11.0    -0.052573\n",
      "11         12.0    -0.002442\n",
      "12         19.0    -0.023099\n",
      "13         20.0    -0.015467\n",
      "14         step    -0.000005\n",
      "15  battery_low    -0.000293\n"
     ]
    }
   ],
   "source": [
    "print(pd.DataFrame({'Predictor': x.columns, 'coefficient': model.coef_}))"
   ]
  },
  {
   "cell_type": "markdown",
   "metadata": {},
   "source": [
    "This shows us how the tags influence the depression score. In this case it seems that our most influential predictors are tags `4` and `8`?\n",
    "\n",
    "Next, let's calculate the score."
   ]
  },
  {
   "cell_type": "code",
   "execution_count": 63,
   "metadata": {},
   "outputs": [
    {
     "name": "stdout",
     "output_type": "stream",
     "text": [
      "0.011299708360649086\n"
     ]
    }
   ],
   "source": [
    "print(model.score(valid_x, valid_y))"
   ]
  },
  {
   "cell_type": "markdown",
   "metadata": {},
   "source": [
    "This is a really low score! What does the regression summary have to say? "
   ]
  },
  {
   "cell_type": "code",
   "execution_count": 64,
   "metadata": {},
   "outputs": [
    {
     "name": "stdout",
     "output_type": "stream",
     "text": [
      "\n",
      "Regression statistics\n",
      "\n",
      "               Mean Error (ME) : 0.0007\n",
      "Root Mean Squared Error (RMSE) : 0.2840\n",
      "     Mean Absolute Error (MAE) : 0.2507\n"
     ]
    }
   ],
   "source": [
    "from dmba import regressionSummary\n",
    "regressionSummary(valid_y, model.predict(valid_x))"
   ]
  },
  {
   "cell_type": "markdown",
   "metadata": {},
   "source": [
    "I'm not sure why my score is so low if my mean error is low. Shouldn't that normally mean that the score would be *high*?\n",
    "\n",
    "Anyway, something else to note is the fact that `regressionSummary()` does not return a mean absolute percentage error (MAPE). I checked the GitHub repository containing the source code for this function in `dmba`, which has apparently changed fairly recently. \n",
    "\n",
    "Anyway, my attempts to manually calculate the MAPE have resulted in numbers that are not particularly helpful, in that they are incredibly large or small (in degrees of thousands...), so I thought it best to not bother with it so much. \n",
    "\n",
    "## Prediction\n",
    "In order to predict users 495 and 496, we have to create a whole new dataset that excludes them for training."
   ]
  },
  {
   "cell_type": "code",
   "execution_count": 65,
   "metadata": {},
   "outputs": [
    {
     "data": {
      "text/html": [
       "<div>\n",
       "<style scoped>\n",
       "    .dataframe tbody tr th:only-of-type {\n",
       "        vertical-align: middle;\n",
       "    }\n",
       "\n",
       "    .dataframe tbody tr th {\n",
       "        vertical-align: top;\n",
       "    }\n",
       "\n",
       "    .dataframe thead th {\n",
       "        text-align: right;\n",
       "    }\n",
       "</style>\n",
       "<table border=\"1\" class=\"dataframe\">\n",
       "  <thead>\n",
       "    <tr style=\"text-align: right;\">\n",
       "      <th></th>\n",
       "      <th>tag_id</th>\n",
       "      <th>step</th>\n",
       "      <th>battery_low</th>\n",
       "      <th>depression_score</th>\n",
       "    </tr>\n",
       "  </thead>\n",
       "  <tbody>\n",
       "    <tr>\n",
       "      <th>0</th>\n",
       "      <td>20.0</td>\n",
       "      <td>4060</td>\n",
       "      <td>36</td>\n",
       "      <td>0.500</td>\n",
       "    </tr>\n",
       "    <tr>\n",
       "      <th>1</th>\n",
       "      <td>2.0</td>\n",
       "      <td>10</td>\n",
       "      <td>9</td>\n",
       "      <td>0.500</td>\n",
       "    </tr>\n",
       "    <tr>\n",
       "      <th>2</th>\n",
       "      <td>2.0</td>\n",
       "      <td>57</td>\n",
       "      <td>7</td>\n",
       "      <td>0.500</td>\n",
       "    </tr>\n",
       "    <tr>\n",
       "      <th>3</th>\n",
       "      <td>2.0</td>\n",
       "      <td>72</td>\n",
       "      <td>5</td>\n",
       "      <td>0.500</td>\n",
       "    </tr>\n",
       "    <tr>\n",
       "      <th>4</th>\n",
       "      <td>0.0</td>\n",
       "      <td>89</td>\n",
       "      <td>24</td>\n",
       "      <td>0.500</td>\n",
       "    </tr>\n",
       "    <tr>\n",
       "      <th>...</th>\n",
       "      <td>...</td>\n",
       "      <td>...</td>\n",
       "      <td>...</td>\n",
       "      <td>...</td>\n",
       "    </tr>\n",
       "    <tr>\n",
       "      <th>289224</th>\n",
       "      <td>12.0</td>\n",
       "      <td>745</td>\n",
       "      <td>50</td>\n",
       "      <td>0.625</td>\n",
       "    </tr>\n",
       "    <tr>\n",
       "      <th>289225</th>\n",
       "      <td>0.0</td>\n",
       "      <td>832</td>\n",
       "      <td>48</td>\n",
       "      <td>0.625</td>\n",
       "    </tr>\n",
       "    <tr>\n",
       "      <th>289226</th>\n",
       "      <td>0.0</td>\n",
       "      <td>841</td>\n",
       "      <td>47</td>\n",
       "      <td>0.625</td>\n",
       "    </tr>\n",
       "    <tr>\n",
       "      <th>289227</th>\n",
       "      <td>2.0</td>\n",
       "      <td>855</td>\n",
       "      <td>47</td>\n",
       "      <td>0.625</td>\n",
       "    </tr>\n",
       "    <tr>\n",
       "      <th>289228</th>\n",
       "      <td>2.0</td>\n",
       "      <td>879</td>\n",
       "      <td>47</td>\n",
       "      <td>0.625</td>\n",
       "    </tr>\n",
       "  </tbody>\n",
       "</table>\n",
       "<p>277422 rows × 4 columns</p>\n",
       "</div>"
      ],
      "text/plain": [
       "        tag_id  step  battery_low  depression_score\n",
       "0         20.0  4060           36             0.500\n",
       "1          2.0    10            9             0.500\n",
       "2          2.0    57            7             0.500\n",
       "3          2.0    72            5             0.500\n",
       "4          0.0    89           24             0.500\n",
       "...        ...   ...          ...               ...\n",
       "289224    12.0   745           50             0.625\n",
       "289225     0.0   832           48             0.625\n",
       "289226     0.0   841           47             0.625\n",
       "289227     2.0   855           47             0.625\n",
       "289228     2.0   879           47             0.625\n",
       "\n",
       "[277422 rows x 4 columns]"
      ]
     },
     "execution_count": 65,
     "metadata": {},
     "output_type": "execute_result"
    }
   ],
   "source": [
    "new_data = getRawData()\n",
    "\n",
    "# We need these particular users data...\n",
    "user_495 = new_data.loc[new_data['owner_id'] == 495]\n",
    "user_496 = new_data.loc[new_data['owner_id'] == 496]\n",
    "\n",
    "# Now we need the dataset without them in it.\n",
    "new_data = new_data.drop(new_data.index[new_data['owner_id'].isin([495, 496])])\n",
    "\n",
    "# Truncate again...\n",
    "new_data = new_data[['tag_id', 'step', 'battery_low', 'depression_score']]\n",
    "new_data"
   ]
  },
  {
   "cell_type": "markdown",
   "metadata": {},
   "source": [
    "As you can see, `new_data` has only 277,430 rows, whereas the original dataset had 289,229— which is a difference of 11,799. \n",
    "\n",
    "Additionally, we need to get each user's data. Normally, you could just do:\n",
    "\n",
    "    user_495 = pd.read_csv('./user_data/data_495.csv')\n",
    "    user_496 = pd.read_csv('./user_data/data_496.csv')\n",
    "\n",
    "But this won't work because the information given in the `user_data` folder is actually slightly different from the original `device_uplink.csv`: there are 20 tags in the latter, while only 12 in the former. \n",
    "\n",
    "Also, for simplicity's sake, we are going to drop both of these users from the dataset at the same time. If more time were permitted, you could examine the difference in the model's performance when one user is kept and the other is dropped, but I suspect the difference would be minimal. \n",
    "\n",
    "Something to note is that some of these users don't end up using some tags at all. What this means is that when I create the `x` and `y` for model training and prediction, the dataframes end up being a few columns smaller. \n",
    "\n",
    "To deal with this, I simply decided to add the columns manually and fill them with zeroes.\n",
    "\n",
    "The columns in the training set are:\n",
    "\n",
    "    1.0, 2.0, 3.0, 4.0, 5.0, 6.0, 7.0, 8.0, 9.0, 10.0, 11.0, 12.0, 19.0, 20.0, step, battery_low\n",
    "\n",
    "For user 495, they are:\n",
    "\n",
    "    1.0, 2.0, 3.0, 6.0, 9.0, 10.0, 11.0, 12.0, 19.0, 20.0, step, battery_low\n",
    "\n",
    "So that means it's missing `4.0, 5.0, 7.0, 8.0`. \n",
    "\n",
    "And for user 496, they are: \n",
    "\n",
    "    1.0, 2.0, 3.0, 4.0, 6.0, 9.0, 10.0, 11.0, 12.0, 19.0, 20.0, step, battery_low\n",
    "\n",
    "So it means that this user is missing `5.0, 7.0, 8.0`, which is one less column than the previous user. \n",
    "\n",
    "Now, let's run all the code we ran before and see what the machine thinks the depression scores are."
   ]
  },
  {
   "cell_type": "code",
   "execution_count": 66,
   "metadata": {},
   "outputs": [],
   "source": [
    "# Train the model on the data without these users...\n",
    "x, y = create_x_y(new_data)\n",
    "train_x, valid_x, train_y, valid_y = train_test_split(x, y, test_size=0.4, random_state=1)\n",
    "\n",
    "# Drop for aforementioned reasons...\n",
    "train_x = train_x.drop(columns=['4.0', '5.0', '7.0', '8.0'])\n",
    "\n",
    "model = LinearRegression().fit(train_x, train_y)"
   ]
  },
  {
   "cell_type": "code",
   "execution_count": 67,
   "metadata": {},
   "outputs": [
    {
     "data": {
      "text/plain": [
       "(8453,)"
      ]
     },
     "execution_count": 67,
     "metadata": {},
     "output_type": "execute_result"
    }
   ],
   "source": [
    "# Prediction time!\n",
    "x, y = create_x_y(user_495)\n",
    "prediction = model.predict(x)\n",
    "prediction.shape"
   ]
  },
  {
   "cell_type": "markdown",
   "metadata": {},
   "source": [
    "Notice that `prediction` is 8,453 rows. Now, it's my understanding that what I have is a prediction of depression score by row. So, it seems acceptable to take the average of all these results to get the predicted depression score, which is shown below."
   ]
  },
  {
   "cell_type": "code",
   "execution_count": 68,
   "metadata": {},
   "outputs": [
    {
     "name": "stdout",
     "output_type": "stream",
     "text": [
      "0.3155961577703271\n"
     ]
    }
   ],
   "source": [
    "print(sum(prediction)/len(prediction))"
   ]
  },
  {
   "cell_type": "markdown",
   "metadata": {},
   "source": [
    "The prediction was `0.3155961577703271`, whereas the real value was `0.25`, with a percent difference of 23%. This seems *acceptably* close. "
   ]
  },
  {
   "cell_type": "code",
   "execution_count": 69,
   "metadata": {},
   "outputs": [
    {
     "name": "stdout",
     "output_type": "stream",
     "text": [
      "0.3114853897359755\n"
     ]
    }
   ],
   "source": [
    "# Now for user_496\n",
    "x, y = create_x_y(user_496)\n",
    "x = x.drop(columns=['4.0'])\n",
    "prediction = model.predict(x)\n",
    "print(sum(prediction)/len(prediction))"
   ]
  },
  {
   "cell_type": "markdown",
   "metadata": {},
   "source": [
    "For user 496, the prediction was way off. The real value is `0.75` while we predicted `0.3114853897359755`, which is a 82.6% difference— unacceptable.\n",
    "\n",
    "I suggest that this might be because of the missing columns I had to drop in order to get this whole thing to work. I'm sure there's another approach that can build a model that's more flexible.\n",
    "\n",
    "Next, we have to look at other regression methods. \n",
    "\n",
    "## Forward selection\n",
    "- Start with no predictors\n",
    "- Add them one by one (add the one with largest contribution)\n",
    "- Stop when the addition is not statistically significant"
   ]
  },
  {
   "cell_type": "code",
   "execution_count": 70,
   "metadata": {},
   "outputs": [],
   "source": [
    "from dmba import AIC_score\n",
    "\n",
    "# First, let's define some helper functions.\n",
    "def train_model(variables):\n",
    "    if len(variables) == 0:\n",
    "        return None\n",
    "    model = LinearRegression()\n",
    "    model.fit(train_x[variables], train_y)\n",
    "    return model\n",
    "\n",
    "def score_model(model, variables):\n",
    "    if len(variables) == 0:\n",
    "       return AIC_score(train_y, [train_y.mean()] * len(train_y), model, df=1)\n",
    "    return AIC_score(train_y, model.predict(train_x[variables]), model)"
   ]
  },
  {
   "cell_type": "code",
   "execution_count": 71,
   "metadata": {},
   "outputs": [
    {
     "name": "stdout",
     "output_type": "stream",
     "text": [
      "Variables: 1.0, 2.0, 3.0, 6.0, 9.0, 10.0, 11.0, 12.0, 19.0, 20.0, step, battery_low\n",
      "Start: score=56158.77, constant\n",
      "Step: score=55469.75, add step\n",
      "Step: score=55137.29, add 10.0\n",
      "Step: score=55059.77, add 1.0\n",
      "Step: score=55000.29, add 11.0\n",
      "Step: score=54983.60, add battery_low\n",
      "Step: score=54969.26, add 3.0\n",
      "Step: score=54957.19, add 9.0\n",
      "Step: score=54955.06, add 12.0\n",
      "Step: score=54954.50, add 6.0\n",
      "Step: score=54954.37, add 20.0\n",
      "Step: score=54954.37, add None\n",
      "\n",
      "Best variables: ['step', '10.0', '1.0', '11.0', 'battery_low', '3.0', '9.0', '12.0', '6.0', '20.0']\n",
      "\n",
      "Regression statistics\n",
      "\n",
      "               Mean Error (ME) : 0.0022\n",
      "Root Mean Squared Error (RMSE) : 0.2866\n",
      "     Mean Absolute Error (MAE) : 0.2548\n"
     ]
    }
   ],
   "source": [
    "from dmba import forward_selection\n",
    "    \n",
    "best_model, best_variables = forward_selection(train_x.columns, train_model, score_model,verbose=True)\n",
    "\n",
    "# Now we need to eavluate how forward selection performs. \n",
    "print(\"\\nBest variables: \" + str(best_variables))\n",
    "regressionSummary(valid_y, best_model.predict(valid_x[best_variables]))"
   ]
  },
  {
   "cell_type": "markdown",
   "metadata": {},
   "source": [
    "## Backwards Elimination\n",
    "- Start with all predictors\n",
    "- Successively eliminate least useful predictors one by one\n",
    "- Stop when all remaining predictors have statistically significant contribution"
   ]
  },
  {
   "cell_type": "code",
   "execution_count": 72,
   "metadata": {},
   "outputs": [
    {
     "name": "stdout",
     "output_type": "stream",
     "text": [
      "Variables: 1.0, 2.0, 3.0, 6.0, 9.0, 10.0, 11.0, 12.0, 19.0, 20.0, step, battery_low\n",
      "Start: score=54957.09\n",
      "Step: score=54955.71, remove 19.0\n",
      "Step: score=54954.37, remove 2.0\n",
      "Step: score=54954.37, remove None\n",
      "\n",
      "Best variables: ['1.0', '3.0', '6.0', '9.0', '10.0', '11.0', '12.0', '20.0', 'step', 'battery_low']\n",
      "\n",
      "Regression statistics\n",
      "\n",
      "               Mean Error (ME) : 0.0022\n",
      "Root Mean Squared Error (RMSE) : 0.2866\n",
      "     Mean Absolute Error (MAE) : 0.2548\n"
     ]
    }
   ],
   "source": [
    "from dmba import backward_elimination\n",
    "allVariables = train_x.columns\n",
    "\n",
    "best_model, best_variables = backward_elimination(allVariables, train_model, score_model, verbose=True)\n",
    "\n",
    "# Next, we need to evaluate how backwards elimination performed. \n",
    "print(\"\\nBest variables: \" + str(best_variables))\n",
    "regressionSummary(valid_y, best_model.predict(valid_x[best_variables]))"
   ]
  },
  {
   "cell_type": "markdown",
   "metadata": {},
   "source": [
    "## Stepwise refinement\n",
    "- Like forward selection\t\n",
    "- Except at each step, also consider dropping non-significant predictors"
   ]
  },
  {
   "cell_type": "code",
   "execution_count": 73,
   "metadata": {},
   "outputs": [
    {
     "name": "stdout",
     "output_type": "stream",
     "text": [
      "Variables: 1.0, 2.0, 3.0, 6.0, 9.0, 10.0, 11.0, 12.0, 19.0, 20.0, step, battery_low\n",
      "Start: score=56158.77, constant\n",
      "Step: score=55469.75, add step\n",
      "Step: score=55137.29, add 10.0\n",
      "Step: score=55059.77, add 1.0\n",
      "Step: score=55000.29, add 11.0\n",
      "Step: score=54983.60, add battery_low\n",
      "Step: score=54969.26, add 3.0\n",
      "Step: score=54957.19, add 9.0\n",
      "Step: score=54955.06, add 12.0\n",
      "Step: score=54954.50, add 6.0\n",
      "Step: score=54954.37, add 20.0\n",
      "Step: score=54954.37, unchanged None\n",
      "\n",
      "Best variables: ['step', '10.0', '1.0', '11.0', 'battery_low', '3.0', '9.0', '12.0', '6.0', '20.0']\n",
      "\n",
      "Regression statistics\n",
      "\n",
      "               Mean Error (ME) : 0.0022\n",
      "Root Mean Squared Error (RMSE) : 0.2866\n",
      "     Mean Absolute Error (MAE) : 0.2548\n"
     ]
    }
   ],
   "source": [
    "from dmba import stepwise_selection\n",
    "best_model, best_variables = stepwise_selection(train_x.columns, train_model, score_model, verbose=True)\n",
    "\n",
    "# Again, how did it do?\n",
    "print(\"\\nBest variables: \" + str(best_variables))\n",
    "regressionSummary(valid_y, best_model.predict(valid_x[best_variables]))"
   ]
  },
  {
   "cell_type": "markdown",
   "metadata": {},
   "source": [
    "As you can see, all the regression results have the same mean error, and also chose the same best variables:\n",
    "\n",
    "    ['1.0', '3.0', '9.0', '10.0', '11.0', '12.0', 'step', 'battery_low']\n",
    "\n",
    "I'm not exactly sure why it ended up like this, but for now I'm just gonna assume that it means that these truly were the best variables to select. \n",
    "\n",
    "## Cumulative Lift Chart\n",
    "The cumulative lift chart shows you the lift factor of how many times it is better to use a model in contrast to not using a model.\n",
    "\n",
    "- Lift is a measure of the effectiveness of a predictive model calculated as the ratio between the results obtained with and without the predictive model.\n",
    "- Cumulative gains and lift charts are visual aids for measuring model performance\n",
    "- Both charts consist of a lift curve and a baseline\n",
    "- The greater the area between the lift curve and the baseline, the better the model"
   ]
  },
  {
   "cell_type": "code",
   "execution_count": 74,
   "metadata": {},
   "outputs": [
    {
     "data": {
      "text/plain": [
       "<AxesSubplot:xlabel='# records', ylabel='# cumulative gains'>"
      ]
     },
     "execution_count": 74,
     "metadata": {},
     "output_type": "execute_result"
    },
    {
     "data": {
      "image/png": "[encoded data removed]",
      "text/plain": [
       "<Figure size 288x288 with 1 Axes>"
      ]
     },
     "metadata": {
      "needs_background": "light"
     },
     "output_type": "display_data"
    }
   ],
   "source": [
    "%matplotlib inline\n",
    "import matplotlib.pylab as plt\n",
    "from dmba import gainsChart\n",
    "\n",
    "predProb_valid = best_model.predict(valid_x[best_variables])\n",
    "\n",
    "df = pd.DataFrame({'actual': valid_y, 'prob': predProb_valid})\n",
    "df = df.sort_values(by=['prob'], ascending=False).reset_index(drop=True)\n",
    "fig,ax = plt.subplots()\n",
    "fig.set_size_inches(4, 4)\n",
    "gainsChart(df.actual, ax=ax)"
   ]
  },
  {
   "cell_type": "markdown",
   "metadata": {},
   "source": [
    "Since all my models came out identical, this is what the cumulative lift chart would look like— I think? I may have messed up on the output here... This would apparently mean it doesn't perform much better than randomly selecting stuff, which doesn't line up with the mean error being so low. So something might have gone wrong here."
   ]
  },
  {
   "cell_type": "markdown",
   "metadata": {},
   "source": [
    "# Naïve Bayes Classifier"
   ]
  },
  {
   "cell_type": "markdown",
   "metadata": {},
   "source": [
    "We're still working with the original dataframe, but we need to add `depression_class` and modify it to have categorical variables instead of numerical, since this is a classification problem and not a regression one. "
   ]
  },
  {
   "cell_type": "code",
   "execution_count": 75,
   "metadata": {},
   "outputs": [],
   "source": [
    "data = getRawData()\n",
    "\n",
    "# Eliminate excess or invalid data...\n",
    "data = data[['tag_id', 'step', 'battery_low', 'depression_class']]\n",
    "data = data[data['step'] >= 0 ]\n",
    "\n",
    "# Create dummies\n",
    "predictors = ['tag_id', 'step', 'battery_low']\n",
    "x = pd.get_dummies(data[predictors], drop_first=True)\n",
    "\n",
    "y = data['depression_class'].astype('category')\n",
    "x_train, x_valid, y_train, y_valid = train_test_split(x, y, test_size=0.4, random_state=1)"
   ]
  },
  {
   "cell_type": "code",
   "execution_count": 76,
   "metadata": {},
   "outputs": [],
   "source": [
    "from sklearn.naive_bayes import MultinomialNB\n",
    "\n",
    "model = MultinomialNB(alpha=0.1)\n",
    "model.fit(x_train, y_train)\n",
    "\n",
    "predProb_train = model.predict_proba(x_train)\n",
    "predProb_valid = model.predict_proba(x_valid)\n",
    "y_train_pred = model.predict(x_train)\n",
    "y_valid_pred = model.predict(x_valid)"
   ]
  },
  {
   "cell_type": "markdown",
   "metadata": {},
   "source": [
    "One of the best metrics for evaluating a classifier's performance is the confusion matrix— my personal favorite. \n",
    "\n",
    "Let's see how our model holds up against the validation set."
   ]
  },
  {
   "cell_type": "code",
   "execution_count": 77,
   "metadata": {},
   "outputs": [
    {
     "data": {
      "text/plain": [
       "<sklearn.metrics._plot.confusion_matrix.ConfusionMatrixDisplay at 0x7ff41d0bd550>"
      ]
     },
     "execution_count": 77,
     "metadata": {},
     "output_type": "execute_result"
    },
    {
     "data": {
      "image/png": "[encoded data removed]",
      "text/plain": [
       "<Figure size 432x288 with 2 Axes>"
      ]
     },
     "metadata": {
      "needs_background": "light"
     },
     "output_type": "display_data"
    }
   ],
   "source": [
    "from sklearn.metrics import confusion_matrix, ConfusionMatrixDisplay\n",
    "\n",
    "classes = list(y.cat.categories)\n",
    "\n",
    "cm = confusion_matrix(y_valid, y_valid_pred, labels=classes)\n",
    "disp = ConfusionMatrixDisplay(confusion_matrix=cm, display_labels=classes)\n",
    "disp.plot()"
   ]
  },
  {
   "cell_type": "markdown",
   "metadata": {},
   "source": [
    "Wow... that's... awful! It's so inaccurate and it gets very confused on pretty much everything. \n",
    "\n",
    "Also, it apparently never chose to predict anything as \"severe\". \n",
    "\n",
    "So, when I saw this, my first thought was that the model was somehow overfitting to the training set. So let's look at the confusion matrix on the training set and see if it's accuracy is super high or something."
   ]
  },
  {
   "cell_type": "code",
   "execution_count": 78,
   "metadata": {},
   "outputs": [
    {
     "data": {
      "text/plain": [
       "<sklearn.metrics._plot.confusion_matrix.ConfusionMatrixDisplay at 0x7ff428dfdeb0>"
      ]
     },
     "execution_count": 78,
     "metadata": {},
     "output_type": "execute_result"
    },
    {
     "data": {
      "image/png": "[encoded data removed]",
      "text/plain": [
       "<Figure size 432x288 with 2 Axes>"
      ]
     },
     "metadata": {
      "needs_background": "light"
     },
     "output_type": "display_data"
    }
   ],
   "source": [
    "cm = confusion_matrix(y_train, y_train_pred, labels=classes)\n",
    "disp = ConfusionMatrixDisplay(confusion_matrix=cm, display_labels=classes)\n",
    "disp.plot()"
   ]
  },
  {
   "cell_type": "markdown",
   "metadata": {},
   "source": [
    "Nope, it's not a case of overfitting: the accuracy here is really low, too.\n",
    "\n",
    "Perhaps, then, it's an issue of sampling? I don't see how or why the accuracy should be so low. I went back and tried different `random_state` values to try to get drastically different results, but to no avail. It never solved the problem of the model never predicting 'severe' either.\n",
    "\n",
    "It's worth mentioning that something else might be wrong here with my dataset. From my analysis, I noticed if you make a dataframe by reading each file in `user_data` individually and appending per file, then you'd end up with slightly different results. So, perhaps there is something there. \n",
    "\n",
    "However, by the time I noticed this I was already too far in with this particular dataset, so I had no choice but to move on.\n",
    "\n",
    "## Conditional probabilities\n",
    "To find the probability that somebody's depression is moderately severe, we need to look at our dataset. \n",
    "\n",
    "From the below code, you can tell the percentage of 'moderately severe' is 18.87%. "
   ]
  },
  {
   "cell_type": "code",
   "execution_count": 79,
   "metadata": {},
   "outputs": [
    {
     "data": {
      "text/plain": [
       "Normal               25\n",
       "Moderately severe    10\n",
       "Moderate              9\n",
       "Mild                  7\n",
       "Severe                2\n",
       "Name: depression_class, dtype: int64"
      ]
     },
     "execution_count": 79,
     "metadata": {},
     "output_type": "execute_result"
    }
   ],
   "source": [
    "user_information['depression_class'].value_counts()"
   ]
  },
  {
   "cell_type": "markdown",
   "metadata": {},
   "source": [
    "# K-nearest neighbors"
   ]
  },
  {
   "cell_type": "markdown",
   "metadata": {},
   "source": [
    "## Preprocess data\n",
    "- Initialize training, validation, and complete data frames"
   ]
  },
  {
   "cell_type": "markdown",
   "metadata": {},
   "source": [
    "When labelling this data, there were a few things I noticed. \n",
    "\n",
    "1. There were an insane amount of tag 0 hits. But this seems to be an invalid tag?\n",
    "    - To handle this, I marked sections where it was only tag 0 as \"None.\"\n",
    "2. Most users had nearly all the same tags in use— mainly tag 2 and 10.\n",
    "3. Some data entries were suspect, for a few reasons:\n",
    "    - I noticed a few entries where several tags in different locations were all pinged at once. How can someone be in the kitchen, at the front door, and in the bathroom all at the same time?\n",
    "        - For entries like that, I marked them as \"none\" since they seemed to contain invalid data, much like tag 0 pings.\n",
    "    - Some days contained only a very sparse amount of data. It was difficult to annotate this.\n",
    "\n",
    "When labelling the data, I used some of the criteria for deciding which labels to use.\n",
    "1. If the steps are low, and it's early in the day, and there is a sudden increase in steps, then the user is probably **waking up**.\n",
    "2. If the steps are high, and it's very late or early in the day, and the user is not gaining any more steps, then the user is probably **asleep**. \n",
    "3. If the user is hitting the kitchen or microwave tag in the same time, or in a huge frequency, then I assume they might be **eating**. Similar thought process applies to the bathroom and toilet tags, where I assume they are going to the bathroom. \n",
    "4. If the medicine tag is ever hit, then I assume they're taking their medication. Same for other very low frequency tags, such as \"water purifier,\" which only exists in trace amounts in the entire dataset. \n",
    "\n",
    "The total dataset ended up containing 2459 labelled points, which is honestly not too many. I'm certain, too, that I did not do a perfect job of annotating the data, so there are bound to be a few errors in there."
   ]
  },
  {
   "cell_type": "code",
   "execution_count": 80,
   "metadata": {},
   "outputs": [
    {
     "data": {
      "text/html": [
       "<div>\n",
       "<style scoped>\n",
       "    .dataframe tbody tr th:only-of-type {\n",
       "        vertical-align: middle;\n",
       "    }\n",
       "\n",
       "    .dataframe tbody tr th {\n",
       "        vertical-align: top;\n",
       "    }\n",
       "\n",
       "    .dataframe thead th {\n",
       "        text-align: right;\n",
       "    }\n",
       "</style>\n",
       "<table border=\"1\" class=\"dataframe\">\n",
       "  <thead>\n",
       "    <tr style=\"text-align: right;\">\n",
       "      <th></th>\n",
       "      <th>start</th>\n",
       "      <th>end</th>\n",
       "      <th>labelName</th>\n",
       "    </tr>\n",
       "  </thead>\n",
       "  <tbody>\n",
       "    <tr>\n",
       "      <th>0</th>\n",
       "      <td>2020-08-12 14:00:00</td>\n",
       "      <td>2020-08-12 14:30:00</td>\n",
       "      <td>Wake up</td>\n",
       "    </tr>\n",
       "    <tr>\n",
       "      <th>1</th>\n",
       "      <td>2020-08-12 17:00:00</td>\n",
       "      <td>2020-08-12 17:30:00</td>\n",
       "      <td>Eat</td>\n",
       "    </tr>\n",
       "    <tr>\n",
       "      <th>2</th>\n",
       "      <td>2020-08-12 23:00:00</td>\n",
       "      <td>2020-08-12 23:30:00</td>\n",
       "      <td>Sleep</td>\n",
       "    </tr>\n",
       "    <tr>\n",
       "      <th>3</th>\n",
       "      <td>2020-08-13 01:00:00</td>\n",
       "      <td>2020-08-13 01:30:00</td>\n",
       "      <td>Sleep</td>\n",
       "    </tr>\n",
       "    <tr>\n",
       "      <th>4</th>\n",
       "      <td>2020-08-13 05:00:00</td>\n",
       "      <td>2020-08-13 05:30:00</td>\n",
       "      <td>Sleep</td>\n",
       "    </tr>\n",
       "  </tbody>\n",
       "</table>\n",
       "</div>"
      ],
      "text/plain": [
       "                 start                  end labelName\n",
       "0  2020-08-12 14:00:00  2020-08-12 14:30:00   Wake up\n",
       "1  2020-08-12 17:00:00  2020-08-12 17:30:00       Eat\n",
       "2  2020-08-12 23:00:00  2020-08-12 23:30:00     Sleep\n",
       "3  2020-08-13 01:00:00  2020-08-13 01:30:00     Sleep\n",
       "4  2020-08-13 05:00:00  2020-08-13 05:30:00     Sleep"
      ]
     },
     "execution_count": 80,
     "metadata": {},
     "output_type": "execute_result"
    }
   ],
   "source": [
    "user_506 = pd.read_csv('506.csv')   # user 1\n",
    "user_516 = pd.read_csv('516.csv')   # user 2\n",
    "user_655 = pd.read_csv('655.csv')   # user 3, the one we have to predict...\n",
    "\n",
    "data = pd.concat([user_506, user_516])\n",
    "data.head()"
   ]
  },
  {
   "cell_type": "markdown",
   "metadata": {},
   "source": [
    "Currently, the data types of all columns is `object`. If we change the first two columns to `datetime64[ns]` then we can use it."
   ]
  },
  {
   "cell_type": "code",
   "execution_count": 81,
   "metadata": {},
   "outputs": [
    {
     "data": {
      "text/plain": [
       "start        datetime64[ns]\n",
       "end          datetime64[ns]\n",
       "labelName            object\n",
       "dtype: object"
      ]
     },
     "execution_count": 81,
     "metadata": {},
     "output_type": "execute_result"
    }
   ],
   "source": [
    "data.start=pd.to_datetime(data.start)\n",
    "data.end=pd.to_datetime(data.end)\n",
    "\n",
    "# Also, we have to do the same for user 3...\n",
    "user_655.start=pd.to_datetime(user_655.start)\n",
    "user_655.end=pd.to_datetime(user_655.end)\n",
    "\n",
    "data.dtypes"
   ]
  },
  {
   "cell_type": "markdown",
   "metadata": {},
   "source": [
    "User 1 and user 2 are used for training the model and user 3 is used as the validation set to find the best K."
   ]
  },
  {
   "cell_type": "code",
   "execution_count": 82,
   "metadata": {},
   "outputs": [],
   "source": [
    "train_x = data.iloc[:, 0:2]\n",
    "train_y = data.iloc[:, 2:3]\n",
    "valid_x = user_655.iloc[:, 0:2]\n",
    "valid_y = user_655.iloc[:, 2:3]"
   ]
  },
  {
   "cell_type": "markdown",
   "metadata": {},
   "source": [
    "## Training"
   ]
  },
  {
   "cell_type": "markdown",
   "metadata": {},
   "source": [
    "There is not much data here, actually. However, K-nearest neighbors is good for small datasets. So let's see how different `k` values change the accuracy of the model. \n",
    "\n",
    "My hypothesis is that a lower `k` is better for the model, since the labels change quite quickly from neighbor to neighbor. "
   ]
  },
  {
   "cell_type": "code",
   "execution_count": 83,
   "metadata": {},
   "outputs": [
    {
     "data": {
      "text/html": [
       "<div>\n",
       "<style scoped>\n",
       "    .dataframe tbody tr th:only-of-type {\n",
       "        vertical-align: middle;\n",
       "    }\n",
       "\n",
       "    .dataframe tbody tr th {\n",
       "        vertical-align: top;\n",
       "    }\n",
       "\n",
       "    .dataframe thead th {\n",
       "        text-align: right;\n",
       "    }\n",
       "</style>\n",
       "<table border=\"1\" class=\"dataframe\">\n",
       "  <thead>\n",
       "    <tr style=\"text-align: right;\">\n",
       "      <th></th>\n",
       "      <th>k</th>\n",
       "      <th>accuracy</th>\n",
       "    </tr>\n",
       "  </thead>\n",
       "  <tbody>\n",
       "    <tr>\n",
       "      <th>0</th>\n",
       "      <td>1</td>\n",
       "      <td>0.273983</td>\n",
       "    </tr>\n",
       "    <tr>\n",
       "      <th>1</th>\n",
       "      <td>2</td>\n",
       "      <td>0.228924</td>\n",
       "    </tr>\n",
       "    <tr>\n",
       "      <th>2</th>\n",
       "      <td>3</td>\n",
       "      <td>0.218750</td>\n",
       "    </tr>\n",
       "    <tr>\n",
       "      <th>3</th>\n",
       "      <td>4</td>\n",
       "      <td>0.223110</td>\n",
       "    </tr>\n",
       "    <tr>\n",
       "      <th>4</th>\n",
       "      <td>5</td>\n",
       "      <td>0.248547</td>\n",
       "    </tr>\n",
       "    <tr>\n",
       "      <th>5</th>\n",
       "      <td>6</td>\n",
       "      <td>0.252180</td>\n",
       "    </tr>\n",
       "    <tr>\n",
       "      <th>6</th>\n",
       "      <td>7</td>\n",
       "      <td>0.257994</td>\n",
       "    </tr>\n",
       "    <tr>\n",
       "      <th>7</th>\n",
       "      <td>8</td>\n",
       "      <td>0.254360</td>\n",
       "    </tr>\n",
       "    <tr>\n",
       "      <th>8</th>\n",
       "      <td>9</td>\n",
       "      <td>0.247093</td>\n",
       "    </tr>\n",
       "    <tr>\n",
       "      <th>9</th>\n",
       "      <td>10</td>\n",
       "      <td>0.249273</td>\n",
       "    </tr>\n",
       "    <tr>\n",
       "      <th>10</th>\n",
       "      <td>11</td>\n",
       "      <td>0.259448</td>\n",
       "    </tr>\n",
       "    <tr>\n",
       "      <th>11</th>\n",
       "      <td>12</td>\n",
       "      <td>0.263081</td>\n",
       "    </tr>\n",
       "    <tr>\n",
       "      <th>12</th>\n",
       "      <td>13</td>\n",
       "      <td>0.260174</td>\n",
       "    </tr>\n",
       "    <tr>\n",
       "      <th>13</th>\n",
       "      <td>14</td>\n",
       "      <td>0.263808</td>\n",
       "    </tr>\n",
       "  </tbody>\n",
       "</table>\n",
       "</div>"
      ],
      "text/plain": [
       "     k  accuracy\n",
       "0    1  0.273983\n",
       "1    2  0.228924\n",
       "2    3  0.218750\n",
       "3    4  0.223110\n",
       "4    5  0.248547\n",
       "5    6  0.252180\n",
       "6    7  0.257994\n",
       "7    8  0.254360\n",
       "8    9  0.247093\n",
       "9   10  0.249273\n",
       "10  11  0.259448\n",
       "11  12  0.263081\n",
       "12  13  0.260174\n",
       "13  14  0.263808"
      ]
     },
     "execution_count": 83,
     "metadata": {},
     "output_type": "execute_result"
    }
   ],
   "source": [
    "from sklearn.neighbors import KNeighborsClassifier\n",
    "from sklearn.metrics import accuracy_score\n",
    "\n",
    "results = []\n",
    "for k in range(1, 15):\n",
    "    # We do train_y.values.ravel() to avoid warnings.\n",
    "    knn = KNeighborsClassifier(n_neighbors=k).fit(train_x, train_y.values.ravel())\n",
    "    results.append({\n",
    "        'k': k,\n",
    "        'accuracy': accuracy_score(valid_y, knn.predict(valid_x))\n",
    "    })\n",
    "\n",
    "results = pd.DataFrame(results)\n",
    "results"
   ]
  },
  {
   "cell_type": "markdown",
   "metadata": {},
   "source": [
    "Let's see a graph of the results."
   ]
  },
  {
   "cell_type": "code",
   "execution_count": 84,
   "metadata": {},
   "outputs": [
    {
     "data": {
      "text/plain": [
       "<AxesSubplot:xlabel='k', ylabel='accuracy'>"
      ]
     },
     "execution_count": 84,
     "metadata": {},
     "output_type": "execute_result"
    },
    {
     "data": {
      "image/png": "[encoded data removed]",
      "text/plain": [
       "<Figure size 432x288 with 1 Axes>"
      ]
     },
     "metadata": {
      "needs_background": "light"
     },
     "output_type": "display_data"
    }
   ],
   "source": [
    "results.plot.scatter(s=75, y='accuracy', x='k')"
   ]
  },
  {
   "cell_type": "markdown",
   "metadata": {},
   "source": [
    "So, it appears that our best classifier is with `k=1`. As soon as `k` increments, it's accuracy drops (relative to other entries) significantly. Then it begins climbing again. \n",
    "\n",
    "As `k` approaches `n` (size of set), it theoretically should approach the accuracy achieved by a Naive Bayes classifier. But, as you can see `k=1` performs better than `k=14`, even if marginally. There could be an issue of overfitting here.  "
   ]
  }
 ],
 "metadata": {
  "interpreter": {
   "hash": "4819c86b0803b63eda5c80188db09eae02dd758e6a1d1e621a4bb079b51c98ba"
  },
  "kernelspec": {
   "display_name": "Python 3 (ipykernel)",
   "language": "python",
   "name": "python3"
  },
  "language_info": {
   "codemirror_mode": {
    "name": "ipython",
    "version": 3
   },
   "file_extension": ".py",
   "mimetype": "text/x-python",
   "name": "python",
   "nbconvert_exporter": "python",
   "pygments_lexer": "ipython3",
   "version": "3.8.8"
  }
 },
 "nbformat": 4,
 "nbformat_minor": 2
}
