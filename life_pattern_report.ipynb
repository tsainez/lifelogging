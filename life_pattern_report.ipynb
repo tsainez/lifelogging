{
 "cells": [
  {
   "cell_type": "markdown",
   "metadata": {
    "id": "8QKFymPp3E0T"
   },
   "source": [
    "# Life Pattern Report\n",
    "\n",
    "The task is to generate a life pattern report for a user, which includes several useful information ranging from simple statistics to recommendations to improve the user’s life.\n",
    "\n",
    "If you are running this on Google Colab, then since the storage isn't persistent, you will have to redownload the data whenever we start a new runtime.\n",
    "\n",
    "I went ahead and hosted it all on GitHub, you can view it [here](https://github.com/tsainez/lifelogging), and clone it via `git clone https://github.com/tsainez/lifelogging.git`.\n",
    "\n",
    "## Data analysis\n",
    "\n",
    "All data used in this project is stored in the `csv` directory.\n",
    "\n",
    "```\n",
    "┌── preprocessing_visualization.ipynb\n",
    "├── classification.ipynb\n",
    "├── life_pattern_report.ipynb\n",
    "└── csv\n",
    "    ├── device_uplink.csv\n",
    "    ├── user_information.csv\n",
    "    └── user_action_annotation\n",
    "        ├── 230.csv\n",
    "        ├── ...\n",
    "        └── 676.csv\n",
    "```"
   ]
  },
  {
   "cell_type": "markdown",
   "metadata": {
    "id": "4aI2IHvU2Dlt"
   },
   "source": [
    "I got rid of some of the user data because it was invalid or was irreparably corrupted.\n",
    "- I chose not to use `499b.csv` because I wasn't sure what the data was or if I should just append it or not, and `499.csv` already seemed to have a good amount of data anyway.\n",
    "- `507.csv` and `520.csv` seemed to contain the old `device_uplink`\n",
    "  - While `507b.csv` did contain the data I was looking for, many of it's `start` and `end` values completley corrupted, showing only \"`##########`\"\n",
    "    - Same for `536b.csv` and `634.csv`\n",
    "- `530b.csv`, `545.csv`, `656.csv`, `669.csv`, `676.csv`, `512b.csv`, `635.csv`, and `655b.csv` are omitted for having too few entries in the data. The criteria for this was that the files had less than 100 entries.\n",
    "  - The reasoning is that it might skew our models. For example, file `676.csv` only had 5 rows of data labeled. Also, some of these files did not even have enough rows to account for even one day, so the data would be useless anyway. \n",
    "- `230.csv` and `230b.csv` contain identical information; same for `514.csv` and `514b.csv`; and for `574.csv` and `574b.csv`. In order to not overrepresent this data, I chose to remove the `b` counterparts to each dataset. \n",
    "- `478.csv`, `506.csv`, `514.csv`, and `524.csv` were removed because they did not have a depression score in the old user information dataset. The depression score was needed in order to make a health score, so I could not use these files."
   ]
  },
  {
   "cell_type": "code",
   "execution_count": 1,
   "metadata": {
    "colab": {
     "base_uri": "https://localhost:8080/"
    },
    "id": "XJHgfswwtxoc",
    "outputId": "43810552-ed4d-4854-d7b4-65b2ffc1ebed"
   },
   "outputs": [
    {
     "data": {
      "text/html": [
       "<div>\n",
       "<style scoped>\n",
       "    .dataframe tbody tr th:only-of-type {\n",
       "        vertical-align: middle;\n",
       "    }\n",
       "\n",
       "    .dataframe tbody tr th {\n",
       "        vertical-align: top;\n",
       "    }\n",
       "\n",
       "    .dataframe thead th {\n",
       "        text-align: right;\n",
       "    }\n",
       "</style>\n",
       "<table border=\"1\" class=\"dataframe\">\n",
       "  <thead>\n",
       "    <tr style=\"text-align: right;\">\n",
       "      <th></th>\n",
       "      <th>start</th>\n",
       "      <th>end</th>\n",
       "      <th>labelName</th>\n",
       "      <th>id</th>\n",
       "    </tr>\n",
       "  </thead>\n",
       "  <tbody>\n",
       "    <tr>\n",
       "      <th>0</th>\n",
       "      <td>2020-11-01 11:00:00</td>\n",
       "      <td>2020-11-01 11:30:00</td>\n",
       "      <td>COOK</td>\n",
       "      <td>551</td>\n",
       "    </tr>\n",
       "    <tr>\n",
       "      <th>1</th>\n",
       "      <td>2020-11-01 11:30:00</td>\n",
       "      <td>2020-11-01 12:00:00</td>\n",
       "      <td>EAT</td>\n",
       "      <td>551</td>\n",
       "    </tr>\n",
       "    <tr>\n",
       "      <th>2</th>\n",
       "      <td>2020-11-01 13:00:00</td>\n",
       "      <td>2020-11-01 13:30:00</td>\n",
       "      <td>COOK</td>\n",
       "      <td>551</td>\n",
       "    </tr>\n",
       "    <tr>\n",
       "      <th>3</th>\n",
       "      <td>2020-11-01 13:30:00</td>\n",
       "      <td>2020-11-01 14:00:00</td>\n",
       "      <td>COOK</td>\n",
       "      <td>551</td>\n",
       "    </tr>\n",
       "    <tr>\n",
       "      <th>4</th>\n",
       "      <td>2020-11-01 14:00:00</td>\n",
       "      <td>2020-11-01 14:30:00</td>\n",
       "      <td>EAT</td>\n",
       "      <td>551</td>\n",
       "    </tr>\n",
       "    <tr>\n",
       "      <th>...</th>\n",
       "      <td>...</td>\n",
       "      <td>...</td>\n",
       "      <td>...</td>\n",
       "      <td>...</td>\n",
       "    </tr>\n",
       "    <tr>\n",
       "      <th>4276</th>\n",
       "      <td>2021-03-11 15:30:00</td>\n",
       "      <td>2021-03-11 16:00:00</td>\n",
       "      <td>SLEEP</td>\n",
       "      <td>574</td>\n",
       "    </tr>\n",
       "    <tr>\n",
       "      <th>4277</th>\n",
       "      <td>2021-03-11 15:30:00</td>\n",
       "      <td>2021-03-11 16:00:00</td>\n",
       "      <td>SLEEP</td>\n",
       "      <td>574</td>\n",
       "    </tr>\n",
       "    <tr>\n",
       "      <th>4278</th>\n",
       "      <td>2021-03-11 15:30:00</td>\n",
       "      <td>2021-03-11 16:00:00</td>\n",
       "      <td>SLEEP</td>\n",
       "      <td>574</td>\n",
       "    </tr>\n",
       "    <tr>\n",
       "      <th>4279</th>\n",
       "      <td>2021-03-11 16:00:00</td>\n",
       "      <td>2021-03-11 16:30:00</td>\n",
       "      <td>SLEEP</td>\n",
       "      <td>574</td>\n",
       "    </tr>\n",
       "    <tr>\n",
       "      <th>4280</th>\n",
       "      <td>2021-03-11 16:00:00</td>\n",
       "      <td>2021-03-11 16:30:00</td>\n",
       "      <td>SLEEP</td>\n",
       "      <td>574</td>\n",
       "    </tr>\n",
       "  </tbody>\n",
       "</table>\n",
       "<p>105927 rows × 4 columns</p>\n",
       "</div>"
      ],
      "text/plain": [
       "                   start                 end labelName   id\n",
       "0    2020-11-01 11:00:00 2020-11-01 11:30:00      COOK  551\n",
       "1    2020-11-01 11:30:00 2020-11-01 12:00:00       EAT  551\n",
       "2    2020-11-01 13:00:00 2020-11-01 13:30:00      COOK  551\n",
       "3    2020-11-01 13:30:00 2020-11-01 14:00:00      COOK  551\n",
       "4    2020-11-01 14:00:00 2020-11-01 14:30:00       EAT  551\n",
       "...                  ...                 ...       ...  ...\n",
       "4276 2021-03-11 15:30:00 2021-03-11 16:00:00     SLEEP  574\n",
       "4277 2021-03-11 15:30:00 2021-03-11 16:00:00     SLEEP  574\n",
       "4278 2021-03-11 15:30:00 2021-03-11 16:00:00     SLEEP  574\n",
       "4279 2021-03-11 16:00:00 2021-03-11 16:30:00     SLEEP  574\n",
       "4280 2021-03-11 16:00:00 2021-03-11 16:30:00     SLEEP  574\n",
       "\n",
       "[105927 rows x 4 columns]"
      ]
     },
     "execution_count": 1,
     "metadata": {},
     "output_type": "execute_result"
    }
   ],
   "source": [
    "import pandas as pd\n",
    "import os \n",
    "import re\n",
    "\n",
    "path = \"csv/user_action_annotation/\"\n",
    "files = [f for f in os.listdir(path) if f.endswith('.csv')]\n",
    "\n",
    "data = pd.DataFrame()\n",
    "duplicates = pd.DataFrame(columns = ['num'])\n",
    "\n",
    "for file in files:\n",
    "    id = re.findall(r'\\d+', file)\n",
    "    temp = pd.read_csv(path + file)\n",
    "    temp['id'] = id[0]\n",
    "    duplicates.loc[id[0]] = temp.duplicated().size\n",
    "    data = pd.concat([data, temp])\n",
    "\n",
    "# Normalize all columns to ensure data integrity. \n",
    "data['start'] = pd.to_datetime(data['start'])\n",
    "data['end'] = pd.to_datetime(data['end'])\n",
    "data['labelName'] = data['labelName'].str.upper()\n",
    "data['labelName'] = data['labelName'].astype('category')\n",
    "data['id'] = pd.to_numeric(data['id'])\n",
    "\n",
    "data"
   ]
  },
  {
   "cell_type": "markdown",
   "metadata": {},
   "source": [
    "There were a huge amount of duplicates in the data. Here's a bar graph that shows how many duplicates there were per user. "
   ]
  },
  {
   "cell_type": "code",
   "execution_count": 2,
   "metadata": {},
   "outputs": [
    {
     "data": {
      "image/png": "[encoded data removed]",
      "text/plain": [
       "<Figure size 432x288 with 1 Axes>"
      ]
     },
     "metadata": {
      "needs_background": "light"
     },
     "output_type": "display_data"
    }
   ],
   "source": [
    "import matplotlib.pyplot as plt\n",
    "# %matplotlib inline\n",
    "\n",
    "duplicates.plot.bar(y='num', rot=0)\n",
    "plt.show()"
   ]
  },
  {
   "cell_type": "markdown",
   "metadata": {},
   "source": [
    "As you can see, most of the files had errors, with one having more than 20,000 duplicated entries. It's not entirely clear how most of these files ended up with so many duplicated rows— nonetheless, they are removed from the total dataset."
   ]
  },
  {
   "cell_type": "code",
   "execution_count": 3,
   "metadata": {},
   "outputs": [
    {
     "data": {
      "text/html": [
       "<div>\n",
       "<style scoped>\n",
       "    .dataframe tbody tr th:only-of-type {\n",
       "        vertical-align: middle;\n",
       "    }\n",
       "\n",
       "    .dataframe tbody tr th {\n",
       "        vertical-align: top;\n",
       "    }\n",
       "\n",
       "    .dataframe thead th {\n",
       "        text-align: right;\n",
       "    }\n",
       "</style>\n",
       "<table border=\"1\" class=\"dataframe\">\n",
       "  <thead>\n",
       "    <tr style=\"text-align: right;\">\n",
       "      <th></th>\n",
       "      <th>start</th>\n",
       "      <th>end</th>\n",
       "      <th>labelName</th>\n",
       "      <th>id</th>\n",
       "    </tr>\n",
       "  </thead>\n",
       "  <tbody>\n",
       "    <tr>\n",
       "      <th>0</th>\n",
       "      <td>2020-11-01 11:00:00</td>\n",
       "      <td>2020-11-01 11:30:00</td>\n",
       "      <td>COOK</td>\n",
       "      <td>551</td>\n",
       "    </tr>\n",
       "    <tr>\n",
       "      <th>1</th>\n",
       "      <td>2020-11-01 11:30:00</td>\n",
       "      <td>2020-11-01 12:00:00</td>\n",
       "      <td>EAT</td>\n",
       "      <td>551</td>\n",
       "    </tr>\n",
       "    <tr>\n",
       "      <th>2</th>\n",
       "      <td>2020-11-01 13:00:00</td>\n",
       "      <td>2020-11-01 13:30:00</td>\n",
       "      <td>COOK</td>\n",
       "      <td>551</td>\n",
       "    </tr>\n",
       "    <tr>\n",
       "      <th>3</th>\n",
       "      <td>2020-11-01 13:30:00</td>\n",
       "      <td>2020-11-01 14:00:00</td>\n",
       "      <td>COOK</td>\n",
       "      <td>551</td>\n",
       "    </tr>\n",
       "    <tr>\n",
       "      <th>4</th>\n",
       "      <td>2020-11-01 14:00:00</td>\n",
       "      <td>2020-11-01 14:30:00</td>\n",
       "      <td>EAT</td>\n",
       "      <td>551</td>\n",
       "    </tr>\n",
       "    <tr>\n",
       "      <th>...</th>\n",
       "      <td>...</td>\n",
       "      <td>...</td>\n",
       "      <td>...</td>\n",
       "      <td>...</td>\n",
       "    </tr>\n",
       "    <tr>\n",
       "      <th>4249</th>\n",
       "      <td>2021-03-11 14:00:00</td>\n",
       "      <td>2021-03-11 14:30:00</td>\n",
       "      <td>GO WALK</td>\n",
       "      <td>574</td>\n",
       "    </tr>\n",
       "    <tr>\n",
       "      <th>4259</th>\n",
       "      <td>2021-03-11 15:00:00</td>\n",
       "      <td>2021-03-11 15:30:00</td>\n",
       "      <td>GO WALK</td>\n",
       "      <td>574</td>\n",
       "    </tr>\n",
       "    <tr>\n",
       "      <th>4270</th>\n",
       "      <td>2021-03-11 15:00:00</td>\n",
       "      <td>2021-03-11 15:30:00</td>\n",
       "      <td>SLEEP</td>\n",
       "      <td>574</td>\n",
       "    </tr>\n",
       "    <tr>\n",
       "      <th>4276</th>\n",
       "      <td>2021-03-11 15:30:00</td>\n",
       "      <td>2021-03-11 16:00:00</td>\n",
       "      <td>SLEEP</td>\n",
       "      <td>574</td>\n",
       "    </tr>\n",
       "    <tr>\n",
       "      <th>4279</th>\n",
       "      <td>2021-03-11 16:00:00</td>\n",
       "      <td>2021-03-11 16:30:00</td>\n",
       "      <td>SLEEP</td>\n",
       "      <td>574</td>\n",
       "    </tr>\n",
       "  </tbody>\n",
       "</table>\n",
       "<p>72403 rows × 4 columns</p>\n",
       "</div>"
      ],
      "text/plain": [
       "                   start                 end labelName   id\n",
       "0    2020-11-01 11:00:00 2020-11-01 11:30:00      COOK  551\n",
       "1    2020-11-01 11:30:00 2020-11-01 12:00:00       EAT  551\n",
       "2    2020-11-01 13:00:00 2020-11-01 13:30:00      COOK  551\n",
       "3    2020-11-01 13:30:00 2020-11-01 14:00:00      COOK  551\n",
       "4    2020-11-01 14:00:00 2020-11-01 14:30:00       EAT  551\n",
       "...                  ...                 ...       ...  ...\n",
       "4249 2021-03-11 14:00:00 2021-03-11 14:30:00   GO WALK  574\n",
       "4259 2021-03-11 15:00:00 2021-03-11 15:30:00   GO WALK  574\n",
       "4270 2021-03-11 15:00:00 2021-03-11 15:30:00     SLEEP  574\n",
       "4276 2021-03-11 15:30:00 2021-03-11 16:00:00     SLEEP  574\n",
       "4279 2021-03-11 16:00:00 2021-03-11 16:30:00     SLEEP  574\n",
       "\n",
       "[72403 rows x 4 columns]"
      ]
     },
     "execution_count": 3,
     "metadata": {},
     "output_type": "execute_result"
    }
   ],
   "source": [
    "data = data.drop_duplicates()\n",
    "data"
   ]
  },
  {
   "cell_type": "markdown",
   "metadata": {},
   "source": [
    "We went from 105927 entries to just 72403 entries! That's a 31.6482% decrease."
   ]
  },
  {
   "cell_type": "code",
   "execution_count": 4,
   "metadata": {},
   "outputs": [
    {
     "name": "stdout",
     "output_type": "stream",
     "text": [
      "<class 'pandas.core.frame.DataFrame'>\n",
      "Int64Index: 72403 entries, 0 to 4279\n",
      "Data columns (total 4 columns):\n",
      " #   Column     Non-Null Count  Dtype         \n",
      "---  ------     --------------  -----         \n",
      " 0   start      72403 non-null  datetime64[ns]\n",
      " 1   end        72403 non-null  datetime64[ns]\n",
      " 2   labelName  72403 non-null  category      \n",
      " 3   id         72403 non-null  int64         \n",
      "dtypes: category(1), datetime64[ns](2), int64(1)\n",
      "memory usage: 2.3 MB\n"
     ]
    }
   ],
   "source": [
    "data.info()"
   ]
  },
  {
   "cell_type": "code",
   "execution_count": 5,
   "metadata": {},
   "outputs": [
    {
     "data": {
      "text/plain": [
       "['COOK', 'EAT', 'GO WALK', 'GO TO BATHROOM', 'WASH DISHES', ..., 'WORK OUT', 'DRINK', 'WAKE UP', 'SLEEP', 'WATCH TV']\n",
       "Length: 14\n",
       "Categories (14, object): ['COOK', 'EAT', 'GO WALK', 'GO TO BATHROOM', ..., 'DRINK', 'WAKE UP', 'SLEEP', 'WATCH TV']"
      ]
     },
     "execution_count": 5,
     "metadata": {},
     "output_type": "execute_result"
    }
   ],
   "source": [
    "pd.unique(data['labelName'])"
   ]
  },
  {
   "cell_type": "code",
   "execution_count": 6,
   "metadata": {},
   "outputs": [
    {
     "data": {
      "text/plain": [
       "SLEEP             17567\n",
       "EAT               14107\n",
       "GO TO BATHROOM    11466\n",
       "COOK               6365\n",
       "NONE               4920\n",
       "WAKE UP            4796\n",
       "TAKE MEDICINE      4158\n",
       "WASH DISHES        1946\n",
       "GO WALK            1940\n",
       "TAKE SHOWER        1749\n",
       "DRINK              1716\n",
       "WORK OUT            868\n",
       "CLEAN               543\n",
       "WATCH TV            262\n",
       "Name: labelName, dtype: int64"
      ]
     },
     "execution_count": 6,
     "metadata": {},
     "output_type": "execute_result"
    }
   ],
   "source": [
    "data['labelName'].value_counts()"
   ]
  },
  {
   "cell_type": "markdown",
   "metadata": {},
   "source": [
    "As you can see, the most commonly reported labels were \"sleep.\" The next was \"eat\" and \"go to bathroom,\" but I did not feel like these would be good encapsulators of a health score. I have seen some research on over-eating and under-eating in relation to depression, however I wasn't sure how to identify or measure whether or not the user was suffering from any eating disorders. \n",
    "\n",
    "I know from domain knowledge, also, that regular sleep patterns are healthy and desirable. On the other hand, unhealthy or irregular sleep patterns can be indications of distress or even depression. Although I know that it would be possible (and more accurate for modeling purposes) to measure consecutive sleep hours, I decided based on my time limits to measure a statistical average of the user's sleep. Different people need different amounts of sleep, so this method is tailored to each user. Plus, I also know that from research eldery people typically tend to sleep less— or as some researchers have put it: \"need less sleep.\" \n",
    "\n",
    "The next best option would be to take into account how much medicine they take on average. If a user regularly takes medicine three times a day, then it's best that they continue to do so. Of course, taking no medicine is also sometimes an indicator of good health. The issue with this is that it's all on a highly individualzied basis. Some users may not need to take any medication and are very healthy— some can only be considered healthy by medical professionals in the case that they do take their medicine. \n",
    "\n",
    "## Health score generation\n",
    "Next, the `labelName` column is going to be split into it's 14 unique categories— a column for each. These new columns will record how many hours a user has logged for a particular label. For example, if a user has `206.0` in `SLEEP` for the month `Feb2020`, then that means the user slept 206 hours in the month of February, 2019. This is converted over from the 30 minute intervals that were logged originally for ease of manipulation.  "
   ]
  },
  {
   "cell_type": "code",
   "execution_count": 7,
   "metadata": {},
   "outputs": [
    {
     "data": {
      "text/html": [
       "<div>\n",
       "<style scoped>\n",
       "    .dataframe tbody tr th:only-of-type {\n",
       "        vertical-align: middle;\n",
       "    }\n",
       "\n",
       "    .dataframe tbody tr th {\n",
       "        vertical-align: top;\n",
       "    }\n",
       "\n",
       "    .dataframe thead th {\n",
       "        text-align: right;\n",
       "    }\n",
       "</style>\n",
       "<table border=\"1\" class=\"dataframe\">\n",
       "  <thead>\n",
       "    <tr style=\"text-align: right;\">\n",
       "      <th></th>\n",
       "      <th>id</th>\n",
       "      <th>month</th>\n",
       "      <th>CLEAN</th>\n",
       "      <th>COOK</th>\n",
       "      <th>DRINK</th>\n",
       "      <th>EAT</th>\n",
       "      <th>GO TO BATHROOM</th>\n",
       "      <th>GO WALK</th>\n",
       "      <th>NONE</th>\n",
       "      <th>SLEEP</th>\n",
       "      <th>TAKE MEDICINE</th>\n",
       "      <th>TAKE SHOWER</th>\n",
       "      <th>WAKE UP</th>\n",
       "      <th>WASH DISHES</th>\n",
       "      <th>WATCH TV</th>\n",
       "      <th>WORK OUT</th>\n",
       "    </tr>\n",
       "  </thead>\n",
       "  <tbody>\n",
       "    <tr>\n",
       "      <th>0</th>\n",
       "      <td>230</td>\n",
       "      <td>Dec2019</td>\n",
       "      <td>0.5</td>\n",
       "      <td>0.5</td>\n",
       "      <td>0.5</td>\n",
       "      <td>0.0</td>\n",
       "      <td>0.0</td>\n",
       "      <td>0.5</td>\n",
       "      <td>0.0</td>\n",
       "      <td>23.5</td>\n",
       "      <td>0.5</td>\n",
       "      <td>0.0</td>\n",
       "      <td>0.0</td>\n",
       "      <td>0.5</td>\n",
       "      <td>0.0</td>\n",
       "      <td>0.0</td>\n",
       "    </tr>\n",
       "    <tr>\n",
       "      <th>1</th>\n",
       "      <td>230</td>\n",
       "      <td>Feb2020</td>\n",
       "      <td>0.5</td>\n",
       "      <td>14.5</td>\n",
       "      <td>0.5</td>\n",
       "      <td>1.5</td>\n",
       "      <td>0.0</td>\n",
       "      <td>16.0</td>\n",
       "      <td>0.0</td>\n",
       "      <td>206.0</td>\n",
       "      <td>22.5</td>\n",
       "      <td>51.5</td>\n",
       "      <td>32.5</td>\n",
       "      <td>0.0</td>\n",
       "      <td>0.0</td>\n",
       "      <td>0.0</td>\n",
       "    </tr>\n",
       "    <tr>\n",
       "      <th>2</th>\n",
       "      <td>230</td>\n",
       "      <td>Mar2020</td>\n",
       "      <td>0.0</td>\n",
       "      <td>9.0</td>\n",
       "      <td>0.5</td>\n",
       "      <td>25.5</td>\n",
       "      <td>0.0</td>\n",
       "      <td>14.0</td>\n",
       "      <td>0.0</td>\n",
       "      <td>362.5</td>\n",
       "      <td>16.5</td>\n",
       "      <td>85.0</td>\n",
       "      <td>79.0</td>\n",
       "      <td>0.0</td>\n",
       "      <td>0.0</td>\n",
       "      <td>0.0</td>\n",
       "    </tr>\n",
       "    <tr>\n",
       "      <th>3</th>\n",
       "      <td>230</td>\n",
       "      <td>Apr2020</td>\n",
       "      <td>0.0</td>\n",
       "      <td>0.0</td>\n",
       "      <td>0.0</td>\n",
       "      <td>19.5</td>\n",
       "      <td>0.0</td>\n",
       "      <td>0.0</td>\n",
       "      <td>0.0</td>\n",
       "      <td>378.5</td>\n",
       "      <td>0.0</td>\n",
       "      <td>97.5</td>\n",
       "      <td>40.0</td>\n",
       "      <td>0.0</td>\n",
       "      <td>0.0</td>\n",
       "      <td>0.0</td>\n",
       "    </tr>\n",
       "    <tr>\n",
       "      <th>4</th>\n",
       "      <td>230</td>\n",
       "      <td>May2020</td>\n",
       "      <td>0.0</td>\n",
       "      <td>0.0</td>\n",
       "      <td>0.0</td>\n",
       "      <td>17.5</td>\n",
       "      <td>0.0</td>\n",
       "      <td>0.0</td>\n",
       "      <td>0.0</td>\n",
       "      <td>428.5</td>\n",
       "      <td>0.0</td>\n",
       "      <td>28.0</td>\n",
       "      <td>39.5</td>\n",
       "      <td>0.0</td>\n",
       "      <td>0.0</td>\n",
       "      <td>0.0</td>\n",
       "    </tr>\n",
       "    <tr>\n",
       "      <th>...</th>\n",
       "      <td>...</td>\n",
       "      <td>...</td>\n",
       "      <td>...</td>\n",
       "      <td>...</td>\n",
       "      <td>...</td>\n",
       "      <td>...</td>\n",
       "      <td>...</td>\n",
       "      <td>...</td>\n",
       "      <td>...</td>\n",
       "      <td>...</td>\n",
       "      <td>...</td>\n",
       "      <td>...</td>\n",
       "      <td>...</td>\n",
       "      <td>...</td>\n",
       "      <td>...</td>\n",
       "      <td>...</td>\n",
       "    </tr>\n",
       "    <tr>\n",
       "      <th>261</th>\n",
       "      <td>672</td>\n",
       "      <td>Mar2021</td>\n",
       "      <td>0.0</td>\n",
       "      <td>3.0</td>\n",
       "      <td>1.5</td>\n",
       "      <td>7.0</td>\n",
       "      <td>14.0</td>\n",
       "      <td>0.0</td>\n",
       "      <td>0.0</td>\n",
       "      <td>0.5</td>\n",
       "      <td>4.0</td>\n",
       "      <td>0.5</td>\n",
       "      <td>3.5</td>\n",
       "      <td>8.0</td>\n",
       "      <td>0.0</td>\n",
       "      <td>0.0</td>\n",
       "    </tr>\n",
       "    <tr>\n",
       "      <th>262</th>\n",
       "      <td>674</td>\n",
       "      <td>Sep2020</td>\n",
       "      <td>2.5</td>\n",
       "      <td>1.5</td>\n",
       "      <td>0.0</td>\n",
       "      <td>8.5</td>\n",
       "      <td>6.5</td>\n",
       "      <td>0.0</td>\n",
       "      <td>0.0</td>\n",
       "      <td>2.0</td>\n",
       "      <td>1.0</td>\n",
       "      <td>0.0</td>\n",
       "      <td>1.0</td>\n",
       "      <td>0.5</td>\n",
       "      <td>0.0</td>\n",
       "      <td>0.0</td>\n",
       "    </tr>\n",
       "    <tr>\n",
       "      <th>263</th>\n",
       "      <td>674</td>\n",
       "      <td>Oct2020</td>\n",
       "      <td>5.0</td>\n",
       "      <td>12.0</td>\n",
       "      <td>0.5</td>\n",
       "      <td>25.0</td>\n",
       "      <td>4.5</td>\n",
       "      <td>0.0</td>\n",
       "      <td>0.0</td>\n",
       "      <td>1.5</td>\n",
       "      <td>1.0</td>\n",
       "      <td>0.0</td>\n",
       "      <td>3.5</td>\n",
       "      <td>0.0</td>\n",
       "      <td>0.0</td>\n",
       "      <td>0.0</td>\n",
       "    </tr>\n",
       "    <tr>\n",
       "      <th>264</th>\n",
       "      <td>674</td>\n",
       "      <td>Nov2020</td>\n",
       "      <td>1.0</td>\n",
       "      <td>2.5</td>\n",
       "      <td>0.0</td>\n",
       "      <td>7.0</td>\n",
       "      <td>1.0</td>\n",
       "      <td>0.0</td>\n",
       "      <td>0.0</td>\n",
       "      <td>0.5</td>\n",
       "      <td>0.5</td>\n",
       "      <td>0.0</td>\n",
       "      <td>1.0</td>\n",
       "      <td>0.0</td>\n",
       "      <td>0.0</td>\n",
       "      <td>0.0</td>\n",
       "    </tr>\n",
       "    <tr>\n",
       "      <th>265</th>\n",
       "      <td>674</td>\n",
       "      <td>Dec2020</td>\n",
       "      <td>0.0</td>\n",
       "      <td>0.0</td>\n",
       "      <td>0.0</td>\n",
       "      <td>7.5</td>\n",
       "      <td>0.0</td>\n",
       "      <td>0.0</td>\n",
       "      <td>0.0</td>\n",
       "      <td>0.5</td>\n",
       "      <td>0.0</td>\n",
       "      <td>0.0</td>\n",
       "      <td>1.0</td>\n",
       "      <td>0.0</td>\n",
       "      <td>0.0</td>\n",
       "      <td>0.0</td>\n",
       "    </tr>\n",
       "  </tbody>\n",
       "</table>\n",
       "<p>266 rows × 16 columns</p>\n",
       "</div>"
      ],
      "text/plain": [
       "      id    month  CLEAN  COOK  DRINK   EAT  GO TO BATHROOM  GO WALK  NONE  \\\n",
       "0    230  Dec2019    0.5   0.5    0.5   0.0             0.0      0.5   0.0   \n",
       "1    230  Feb2020    0.5  14.5    0.5   1.5             0.0     16.0   0.0   \n",
       "2    230  Mar2020    0.0   9.0    0.5  25.5             0.0     14.0   0.0   \n",
       "3    230  Apr2020    0.0   0.0    0.0  19.5             0.0      0.0   0.0   \n",
       "4    230  May2020    0.0   0.0    0.0  17.5             0.0      0.0   0.0   \n",
       "..   ...      ...    ...   ...    ...   ...             ...      ...   ...   \n",
       "261  672  Mar2021    0.0   3.0    1.5   7.0            14.0      0.0   0.0   \n",
       "262  674  Sep2020    2.5   1.5    0.0   8.5             6.5      0.0   0.0   \n",
       "263  674  Oct2020    5.0  12.0    0.5  25.0             4.5      0.0   0.0   \n",
       "264  674  Nov2020    1.0   2.5    0.0   7.0             1.0      0.0   0.0   \n",
       "265  674  Dec2020    0.0   0.0    0.0   7.5             0.0      0.0   0.0   \n",
       "\n",
       "     SLEEP  TAKE MEDICINE  TAKE SHOWER  WAKE UP  WASH DISHES  WATCH TV  \\\n",
       "0     23.5            0.5          0.0      0.0          0.5       0.0   \n",
       "1    206.0           22.5         51.5     32.5          0.0       0.0   \n",
       "2    362.5           16.5         85.0     79.0          0.0       0.0   \n",
       "3    378.5            0.0         97.5     40.0          0.0       0.0   \n",
       "4    428.5            0.0         28.0     39.5          0.0       0.0   \n",
       "..     ...            ...          ...      ...          ...       ...   \n",
       "261    0.5            4.0          0.5      3.5          8.0       0.0   \n",
       "262    2.0            1.0          0.0      1.0          0.5       0.0   \n",
       "263    1.5            1.0          0.0      3.5          0.0       0.0   \n",
       "264    0.5            0.5          0.0      1.0          0.0       0.0   \n",
       "265    0.5            0.0          0.0      1.0          0.0       0.0   \n",
       "\n",
       "     WORK OUT  \n",
       "0         0.0  \n",
       "1         0.0  \n",
       "2         0.0  \n",
       "3         0.0  \n",
       "4         0.0  \n",
       "..        ...  \n",
       "261       0.0  \n",
       "262       0.0  \n",
       "263       0.0  \n",
       "264       0.0  \n",
       "265       0.0  \n",
       "\n",
       "[266 rows x 16 columns]"
      ]
     },
     "execution_count": 7,
     "metadata": {},
     "output_type": "execute_result"
    }
   ],
   "source": [
    "# https://stackoverflow.com/questions/72456623/sum-of-individual-labels-over-a-month-of-granular-data\n",
    "df = (pd.crosstab([data['id'], data['end'].dt.to_period('m')], data['labelName']).mul(0.5)\n",
    "        .rename(columns=str)\n",
    "        .rename_axis(columns=None, index=['id','month'])\n",
    "        .reset_index()\n",
    "        .assign(month=lambda x:x['month'].dt.strftime('%b%Y')))\n",
    "\n",
    "df"
   ]
  },
  {
   "cell_type": "markdown",
   "metadata": {},
   "source": [
    "Next, we're gonna generate the health score from this table.\n",
    "\n",
    "The formula is defined below. It takes a row of data— a month's worth— and compares each label to the user's alltime averages. Then we divided it by 15— the number of labels— so that we can get a baseline (mean) score of 1, which makes it easy to see if a user did well or not. This formula seeks to ensure that a user is following a stable, established routine for that month. Deviation from their routine (represented by the alltime averages) is punished in the health score. This method clearly has a few flaws— mainly, it's all based on statistical averages and it simplifies things greatly."
   ]
  },
  {
   "cell_type": "code",
   "execution_count": 8,
   "metadata": {},
   "outputs": [],
   "source": [
    "def health_score(row, averages):\n",
    "    score = 0\n",
    "\n",
    "    averages = averages.drop(averages.index[0])\n",
    "    row = row.drop(row.index[[0, 1]])\n",
    "    \n",
    "    for i in range(len(row)): \n",
    "        if averages[i] != 0:\n",
    "            score += row[i]/averages[i]\n",
    "            \n",
    "    return score / len(row)"
   ]
  },
  {
   "cell_type": "markdown",
   "metadata": {},
   "source": [
    "Here, I define a new truncated dataframe that serves to keep only the most important information."
   ]
  },
  {
   "cell_type": "code",
   "execution_count": 9,
   "metadata": {},
   "outputs": [
    {
     "data": {
      "text/html": [
       "<div>\n",
       "<style scoped>\n",
       "    .dataframe tbody tr th:only-of-type {\n",
       "        vertical-align: middle;\n",
       "    }\n",
       "\n",
       "    .dataframe tbody tr th {\n",
       "        vertical-align: top;\n",
       "    }\n",
       "\n",
       "    .dataframe thead th {\n",
       "        text-align: right;\n",
       "    }\n",
       "</style>\n",
       "<table border=\"1\" class=\"dataframe\">\n",
       "  <thead>\n",
       "    <tr style=\"text-align: right;\">\n",
       "      <th></th>\n",
       "      <th>id</th>\n",
       "      <th>month</th>\n",
       "      <th>CLEAN</th>\n",
       "      <th>COOK</th>\n",
       "      <th>DRINK</th>\n",
       "      <th>EAT</th>\n",
       "      <th>GO TO BATHROOM</th>\n",
       "      <th>GO WALK</th>\n",
       "      <th>NONE</th>\n",
       "      <th>SLEEP</th>\n",
       "      <th>TAKE MEDICINE</th>\n",
       "      <th>TAKE SHOWER</th>\n",
       "      <th>WAKE UP</th>\n",
       "      <th>WASH DISHES</th>\n",
       "      <th>WATCH TV</th>\n",
       "      <th>WORK OUT</th>\n",
       "      <th>health_score</th>\n",
       "      <th>depression_score</th>\n",
       "    </tr>\n",
       "  </thead>\n",
       "  <tbody>\n",
       "    <tr>\n",
       "      <th>0</th>\n",
       "      <td>230</td>\n",
       "      <td>Dec2019</td>\n",
       "      <td>0.5</td>\n",
       "      <td>0.5</td>\n",
       "      <td>0.5</td>\n",
       "      <td>0.0</td>\n",
       "      <td>0.0</td>\n",
       "      <td>0.5</td>\n",
       "      <td>0.0</td>\n",
       "      <td>23.5</td>\n",
       "      <td>0.5</td>\n",
       "      <td>0.0</td>\n",
       "      <td>0.0</td>\n",
       "      <td>0.5</td>\n",
       "      <td>0.0</td>\n",
       "      <td>0.0</td>\n",
       "      <td>0.124009</td>\n",
       "      <td>0.125</td>\n",
       "    </tr>\n",
       "    <tr>\n",
       "      <th>1</th>\n",
       "      <td>230</td>\n",
       "      <td>Feb2020</td>\n",
       "      <td>0.5</td>\n",
       "      <td>14.5</td>\n",
       "      <td>0.5</td>\n",
       "      <td>1.5</td>\n",
       "      <td>0.0</td>\n",
       "      <td>16.0</td>\n",
       "      <td>0.0</td>\n",
       "      <td>206.0</td>\n",
       "      <td>22.5</td>\n",
       "      <td>51.5</td>\n",
       "      <td>32.5</td>\n",
       "      <td>0.0</td>\n",
       "      <td>0.0</td>\n",
       "      <td>0.0</td>\n",
       "      <td>2.477740</td>\n",
       "      <td>0.125</td>\n",
       "    </tr>\n",
       "    <tr>\n",
       "      <th>2</th>\n",
       "      <td>230</td>\n",
       "      <td>Mar2020</td>\n",
       "      <td>0.0</td>\n",
       "      <td>9.0</td>\n",
       "      <td>0.5</td>\n",
       "      <td>25.5</td>\n",
       "      <td>0.0</td>\n",
       "      <td>14.0</td>\n",
       "      <td>0.0</td>\n",
       "      <td>362.5</td>\n",
       "      <td>16.5</td>\n",
       "      <td>85.0</td>\n",
       "      <td>79.0</td>\n",
       "      <td>0.0</td>\n",
       "      <td>0.0</td>\n",
       "      <td>0.0</td>\n",
       "      <td>3.815362</td>\n",
       "      <td>0.125</td>\n",
       "    </tr>\n",
       "    <tr>\n",
       "      <th>3</th>\n",
       "      <td>230</td>\n",
       "      <td>Apr2020</td>\n",
       "      <td>0.0</td>\n",
       "      <td>0.0</td>\n",
       "      <td>0.0</td>\n",
       "      <td>19.5</td>\n",
       "      <td>0.0</td>\n",
       "      <td>0.0</td>\n",
       "      <td>0.0</td>\n",
       "      <td>378.5</td>\n",
       "      <td>0.0</td>\n",
       "      <td>97.5</td>\n",
       "      <td>40.0</td>\n",
       "      <td>0.0</td>\n",
       "      <td>0.0</td>\n",
       "      <td>0.0</td>\n",
       "      <td>3.306562</td>\n",
       "      <td>0.125</td>\n",
       "    </tr>\n",
       "    <tr>\n",
       "      <th>4</th>\n",
       "      <td>230</td>\n",
       "      <td>May2020</td>\n",
       "      <td>0.0</td>\n",
       "      <td>0.0</td>\n",
       "      <td>0.0</td>\n",
       "      <td>17.5</td>\n",
       "      <td>0.0</td>\n",
       "      <td>0.0</td>\n",
       "      <td>0.0</td>\n",
       "      <td>428.5</td>\n",
       "      <td>0.0</td>\n",
       "      <td>28.0</td>\n",
       "      <td>39.5</td>\n",
       "      <td>0.0</td>\n",
       "      <td>0.0</td>\n",
       "      <td>0.0</td>\n",
       "      <td>1.895365</td>\n",
       "      <td>0.125</td>\n",
       "    </tr>\n",
       "    <tr>\n",
       "      <th>...</th>\n",
       "      <td>...</td>\n",
       "      <td>...</td>\n",
       "      <td>...</td>\n",
       "      <td>...</td>\n",
       "      <td>...</td>\n",
       "      <td>...</td>\n",
       "      <td>...</td>\n",
       "      <td>...</td>\n",
       "      <td>...</td>\n",
       "      <td>...</td>\n",
       "      <td>...</td>\n",
       "      <td>...</td>\n",
       "      <td>...</td>\n",
       "      <td>...</td>\n",
       "      <td>...</td>\n",
       "      <td>...</td>\n",
       "      <td>...</td>\n",
       "      <td>...</td>\n",
       "    </tr>\n",
       "    <tr>\n",
       "      <th>250</th>\n",
       "      <td>672</td>\n",
       "      <td>Mar2021</td>\n",
       "      <td>0.0</td>\n",
       "      <td>3.0</td>\n",
       "      <td>1.5</td>\n",
       "      <td>7.0</td>\n",
       "      <td>14.0</td>\n",
       "      <td>0.0</td>\n",
       "      <td>0.0</td>\n",
       "      <td>0.5</td>\n",
       "      <td>4.0</td>\n",
       "      <td>0.5</td>\n",
       "      <td>3.5</td>\n",
       "      <td>8.0</td>\n",
       "      <td>0.0</td>\n",
       "      <td>0.0</td>\n",
       "      <td>0.348831</td>\n",
       "      <td>0.625</td>\n",
       "    </tr>\n",
       "    <tr>\n",
       "      <th>251</th>\n",
       "      <td>674</td>\n",
       "      <td>Sep2020</td>\n",
       "      <td>2.5</td>\n",
       "      <td>1.5</td>\n",
       "      <td>0.0</td>\n",
       "      <td>8.5</td>\n",
       "      <td>6.5</td>\n",
       "      <td>0.0</td>\n",
       "      <td>0.0</td>\n",
       "      <td>2.0</td>\n",
       "      <td>1.0</td>\n",
       "      <td>0.0</td>\n",
       "      <td>1.0</td>\n",
       "      <td>0.5</td>\n",
       "      <td>0.0</td>\n",
       "      <td>0.0</td>\n",
       "      <td>0.259500</td>\n",
       "      <td>0.000</td>\n",
       "    </tr>\n",
       "    <tr>\n",
       "      <th>252</th>\n",
       "      <td>674</td>\n",
       "      <td>Oct2020</td>\n",
       "      <td>5.0</td>\n",
       "      <td>12.0</td>\n",
       "      <td>0.5</td>\n",
       "      <td>25.0</td>\n",
       "      <td>4.5</td>\n",
       "      <td>0.0</td>\n",
       "      <td>0.0</td>\n",
       "      <td>1.5</td>\n",
       "      <td>1.0</td>\n",
       "      <td>0.0</td>\n",
       "      <td>3.5</td>\n",
       "      <td>0.0</td>\n",
       "      <td>0.0</td>\n",
       "      <td>0.0</td>\n",
       "      <td>0.554993</td>\n",
       "      <td>0.000</td>\n",
       "    </tr>\n",
       "    <tr>\n",
       "      <th>253</th>\n",
       "      <td>674</td>\n",
       "      <td>Nov2020</td>\n",
       "      <td>1.0</td>\n",
       "      <td>2.5</td>\n",
       "      <td>0.0</td>\n",
       "      <td>7.0</td>\n",
       "      <td>1.0</td>\n",
       "      <td>0.0</td>\n",
       "      <td>0.0</td>\n",
       "      <td>0.5</td>\n",
       "      <td>0.5</td>\n",
       "      <td>0.0</td>\n",
       "      <td>1.0</td>\n",
       "      <td>0.0</td>\n",
       "      <td>0.0</td>\n",
       "      <td>0.0</td>\n",
       "      <td>0.120651</td>\n",
       "      <td>0.000</td>\n",
       "    </tr>\n",
       "    <tr>\n",
       "      <th>254</th>\n",
       "      <td>674</td>\n",
       "      <td>Dec2020</td>\n",
       "      <td>0.0</td>\n",
       "      <td>0.0</td>\n",
       "      <td>0.0</td>\n",
       "      <td>7.5</td>\n",
       "      <td>0.0</td>\n",
       "      <td>0.0</td>\n",
       "      <td>0.0</td>\n",
       "      <td>0.5</td>\n",
       "      <td>0.0</td>\n",
       "      <td>0.0</td>\n",
       "      <td>1.0</td>\n",
       "      <td>0.0</td>\n",
       "      <td>0.0</td>\n",
       "      <td>0.0</td>\n",
       "      <td>0.029208</td>\n",
       "      <td>0.000</td>\n",
       "    </tr>\n",
       "  </tbody>\n",
       "</table>\n",
       "<p>255 rows × 18 columns</p>\n",
       "</div>"
      ],
      "text/plain": [
       "      id    month  CLEAN  COOK  DRINK   EAT  GO TO BATHROOM  GO WALK  NONE  \\\n",
       "0    230  Dec2019    0.5   0.5    0.5   0.0             0.0      0.5   0.0   \n",
       "1    230  Feb2020    0.5  14.5    0.5   1.5             0.0     16.0   0.0   \n",
       "2    230  Mar2020    0.0   9.0    0.5  25.5             0.0     14.0   0.0   \n",
       "3    230  Apr2020    0.0   0.0    0.0  19.5             0.0      0.0   0.0   \n",
       "4    230  May2020    0.0   0.0    0.0  17.5             0.0      0.0   0.0   \n",
       "..   ...      ...    ...   ...    ...   ...             ...      ...   ...   \n",
       "250  672  Mar2021    0.0   3.0    1.5   7.0            14.0      0.0   0.0   \n",
       "251  674  Sep2020    2.5   1.5    0.0   8.5             6.5      0.0   0.0   \n",
       "252  674  Oct2020    5.0  12.0    0.5  25.0             4.5      0.0   0.0   \n",
       "253  674  Nov2020    1.0   2.5    0.0   7.0             1.0      0.0   0.0   \n",
       "254  674  Dec2020    0.0   0.0    0.0   7.5             0.0      0.0   0.0   \n",
       "\n",
       "     SLEEP  TAKE MEDICINE  TAKE SHOWER  WAKE UP  WASH DISHES  WATCH TV  \\\n",
       "0     23.5            0.5          0.0      0.0          0.5       0.0   \n",
       "1    206.0           22.5         51.5     32.5          0.0       0.0   \n",
       "2    362.5           16.5         85.0     79.0          0.0       0.0   \n",
       "3    378.5            0.0         97.5     40.0          0.0       0.0   \n",
       "4    428.5            0.0         28.0     39.5          0.0       0.0   \n",
       "..     ...            ...          ...      ...          ...       ...   \n",
       "250    0.5            4.0          0.5      3.5          8.0       0.0   \n",
       "251    2.0            1.0          0.0      1.0          0.5       0.0   \n",
       "252    1.5            1.0          0.0      3.5          0.0       0.0   \n",
       "253    0.5            0.5          0.0      1.0          0.0       0.0   \n",
       "254    0.5            0.0          0.0      1.0          0.0       0.0   \n",
       "\n",
       "     WORK OUT  health_score  depression_score  \n",
       "0         0.0      0.124009             0.125  \n",
       "1         0.0      2.477740             0.125  \n",
       "2         0.0      3.815362             0.125  \n",
       "3         0.0      3.306562             0.125  \n",
       "4         0.0      1.895365             0.125  \n",
       "..        ...           ...               ...  \n",
       "250       0.0      0.348831             0.625  \n",
       "251       0.0      0.259500             0.000  \n",
       "252       0.0      0.554993             0.000  \n",
       "253       0.0      0.120651             0.000  \n",
       "254       0.0      0.029208             0.000  \n",
       "\n",
       "[255 rows x 18 columns]"
      ]
     },
     "execution_count": 9,
     "metadata": {},
     "output_type": "execute_result"
    }
   ],
   "source": [
    "df['health_score'] = df.apply(lambda row: health_score(row, df.mean(axis=0)), axis=1)\n",
    "\n",
    "# Attach the depression score to the dataframe.\n",
    "user_information = pd.read_csv('csv/user_information.csv')\n",
    "df = pd.merge(df, user_information, left_on='id', right_on='user_id', how='inner')\n",
    "\n",
    "# We don't need these additional columns...\n",
    "df.drop(['user_id', 'birth year', 'age', 'sex', 'etc', 'depression_class'], inplace = True, axis = 1)\n",
    "\n",
    "df"
   ]
  },
  {
   "cell_type": "markdown",
   "metadata": {},
   "source": [
    "The old dataframe containing every label is kept in order to compare whether or not using the health score or all 14 original categories would provide a model that's more accurate. "
   ]
  },
  {
   "cell_type": "code",
   "execution_count": 10,
   "metadata": {},
   "outputs": [
    {
     "data": {
      "text/html": [
       "<div>\n",
       "<style scoped>\n",
       "    .dataframe tbody tr th:only-of-type {\n",
       "        vertical-align: middle;\n",
       "    }\n",
       "\n",
       "    .dataframe tbody tr th {\n",
       "        vertical-align: top;\n",
       "    }\n",
       "\n",
       "    .dataframe thead th {\n",
       "        text-align: right;\n",
       "    }\n",
       "</style>\n",
       "<table border=\"1\" class=\"dataframe\">\n",
       "  <thead>\n",
       "    <tr style=\"text-align: right;\">\n",
       "      <th></th>\n",
       "      <th>id</th>\n",
       "      <th>month</th>\n",
       "      <th>health_score</th>\n",
       "      <th>depression_score</th>\n",
       "    </tr>\n",
       "  </thead>\n",
       "  <tbody>\n",
       "    <tr>\n",
       "      <th>0</th>\n",
       "      <td>230</td>\n",
       "      <td>Dec2019</td>\n",
       "      <td>0.124009</td>\n",
       "      <td>0.125</td>\n",
       "    </tr>\n",
       "    <tr>\n",
       "      <th>1</th>\n",
       "      <td>230</td>\n",
       "      <td>Feb2020</td>\n",
       "      <td>2.477740</td>\n",
       "      <td>0.125</td>\n",
       "    </tr>\n",
       "    <tr>\n",
       "      <th>2</th>\n",
       "      <td>230</td>\n",
       "      <td>Mar2020</td>\n",
       "      <td>3.815362</td>\n",
       "      <td>0.125</td>\n",
       "    </tr>\n",
       "    <tr>\n",
       "      <th>3</th>\n",
       "      <td>230</td>\n",
       "      <td>Apr2020</td>\n",
       "      <td>3.306562</td>\n",
       "      <td>0.125</td>\n",
       "    </tr>\n",
       "    <tr>\n",
       "      <th>4</th>\n",
       "      <td>230</td>\n",
       "      <td>May2020</td>\n",
       "      <td>1.895365</td>\n",
       "      <td>0.125</td>\n",
       "    </tr>\n",
       "    <tr>\n",
       "      <th>...</th>\n",
       "      <td>...</td>\n",
       "      <td>...</td>\n",
       "      <td>...</td>\n",
       "      <td>...</td>\n",
       "    </tr>\n",
       "    <tr>\n",
       "      <th>250</th>\n",
       "      <td>672</td>\n",
       "      <td>Mar2021</td>\n",
       "      <td>0.348831</td>\n",
       "      <td>0.625</td>\n",
       "    </tr>\n",
       "    <tr>\n",
       "      <th>251</th>\n",
       "      <td>674</td>\n",
       "      <td>Sep2020</td>\n",
       "      <td>0.259500</td>\n",
       "      <td>0.000</td>\n",
       "    </tr>\n",
       "    <tr>\n",
       "      <th>252</th>\n",
       "      <td>674</td>\n",
       "      <td>Oct2020</td>\n",
       "      <td>0.554993</td>\n",
       "      <td>0.000</td>\n",
       "    </tr>\n",
       "    <tr>\n",
       "      <th>253</th>\n",
       "      <td>674</td>\n",
       "      <td>Nov2020</td>\n",
       "      <td>0.120651</td>\n",
       "      <td>0.000</td>\n",
       "    </tr>\n",
       "    <tr>\n",
       "      <th>254</th>\n",
       "      <td>674</td>\n",
       "      <td>Dec2020</td>\n",
       "      <td>0.029208</td>\n",
       "      <td>0.000</td>\n",
       "    </tr>\n",
       "  </tbody>\n",
       "</table>\n",
       "<p>255 rows × 4 columns</p>\n",
       "</div>"
      ],
      "text/plain": [
       "      id    month  health_score  depression_score\n",
       "0    230  Dec2019      0.124009             0.125\n",
       "1    230  Feb2020      2.477740             0.125\n",
       "2    230  Mar2020      3.815362             0.125\n",
       "3    230  Apr2020      3.306562             0.125\n",
       "4    230  May2020      1.895365             0.125\n",
       "..   ...      ...           ...               ...\n",
       "250  672  Mar2021      0.348831             0.625\n",
       "251  674  Sep2020      0.259500             0.000\n",
       "252  674  Oct2020      0.554993             0.000\n",
       "253  674  Nov2020      0.120651             0.000\n",
       "254  674  Dec2020      0.029208             0.000\n",
       "\n",
       "[255 rows x 4 columns]"
      ]
     },
     "execution_count": 10,
     "metadata": {},
     "output_type": "execute_result"
    }
   ],
   "source": [
    "# We no longer need these columns, so we define a new truncated dataframe.\n",
    "health_score_df = df.drop(df.iloc[:, 2:16], axis = 1)\n",
    "\n",
    "health_score_df"
   ]
  },
  {
   "cell_type": "code",
   "execution_count": 11,
   "metadata": {},
   "outputs": [
    {
     "data": {
      "text/html": [
       "<div>\n",
       "<style scoped>\n",
       "    .dataframe tbody tr th:only-of-type {\n",
       "        vertical-align: middle;\n",
       "    }\n",
       "\n",
       "    .dataframe tbody tr th {\n",
       "        vertical-align: top;\n",
       "    }\n",
       "\n",
       "    .dataframe thead th {\n",
       "        text-align: right;\n",
       "    }\n",
       "</style>\n",
       "<table border=\"1\" class=\"dataframe\">\n",
       "  <thead>\n",
       "    <tr style=\"text-align: right;\">\n",
       "      <th></th>\n",
       "      <th>id</th>\n",
       "      <th>health_score</th>\n",
       "      <th>depression_score</th>\n",
       "    </tr>\n",
       "  </thead>\n",
       "  <tbody>\n",
       "    <tr>\n",
       "      <th>count</th>\n",
       "      <td>255.000000</td>\n",
       "      <td>255.000000</td>\n",
       "      <td>255.000000</td>\n",
       "    </tr>\n",
       "    <tr>\n",
       "      <th>mean</th>\n",
       "      <td>525.823529</td>\n",
       "      <td>0.924732</td>\n",
       "      <td>0.307843</td>\n",
       "    </tr>\n",
       "    <tr>\n",
       "      <th>std</th>\n",
       "      <td>120.748308</td>\n",
       "      <td>1.093597</td>\n",
       "      <td>0.292773</td>\n",
       "    </tr>\n",
       "    <tr>\n",
       "      <th>min</th>\n",
       "      <td>230.000000</td>\n",
       "      <td>0.001657</td>\n",
       "      <td>0.000000</td>\n",
       "    </tr>\n",
       "    <tr>\n",
       "      <th>25%</th>\n",
       "      <td>499.000000</td>\n",
       "      <td>0.170900</td>\n",
       "      <td>0.000000</td>\n",
       "    </tr>\n",
       "    <tr>\n",
       "      <th>50%</th>\n",
       "      <td>536.000000</td>\n",
       "      <td>0.546580</td>\n",
       "      <td>0.250000</td>\n",
       "    </tr>\n",
       "    <tr>\n",
       "      <th>75%</th>\n",
       "      <td>585.000000</td>\n",
       "      <td>1.186830</td>\n",
       "      <td>0.500000</td>\n",
       "    </tr>\n",
       "    <tr>\n",
       "      <th>max</th>\n",
       "      <td>674.000000</td>\n",
       "      <td>7.182213</td>\n",
       "      <td>1.000000</td>\n",
       "    </tr>\n",
       "  </tbody>\n",
       "</table>\n",
       "</div>"
      ],
      "text/plain": [
       "               id  health_score  depression_score\n",
       "count  255.000000    255.000000        255.000000\n",
       "mean   525.823529      0.924732          0.307843\n",
       "std    120.748308      1.093597          0.292773\n",
       "min    230.000000      0.001657          0.000000\n",
       "25%    499.000000      0.170900          0.000000\n",
       "50%    536.000000      0.546580          0.250000\n",
       "75%    585.000000      1.186830          0.500000\n",
       "max    674.000000      7.182213          1.000000"
      ]
     },
     "execution_count": 11,
     "metadata": {},
     "output_type": "execute_result"
    }
   ],
   "source": [
    "health_score_df.describe()"
   ]
  },
  {
   "cell_type": "markdown",
   "metadata": {},
   "source": [
    "Let's look at a sample user: 230. This user has reported a depression level of \"normal\" and also appear to have a mean healthscore above the standard!"
   ]
  },
  {
   "cell_type": "code",
   "execution_count": 12,
   "metadata": {},
   "outputs": [
    {
     "data": {
      "text/plain": [
       "id                  230.000000\n",
       "health_score          2.565523\n",
       "depression_score      0.125000\n",
       "dtype: float64"
      ]
     },
     "execution_count": 12,
     "metadata": {},
     "output_type": "execute_result"
    }
   ],
   "source": [
    "sample = health_score_df.loc[df['id'] == 230]\n",
    "sample.mean()"
   ]
  },
  {
   "cell_type": "code",
   "execution_count": 13,
   "metadata": {},
   "outputs": [
    {
     "data": {
      "text/html": [
       "<div>\n",
       "<style scoped>\n",
       "    .dataframe tbody tr th:only-of-type {\n",
       "        vertical-align: middle;\n",
       "    }\n",
       "\n",
       "    .dataframe tbody tr th {\n",
       "        vertical-align: top;\n",
       "    }\n",
       "\n",
       "    .dataframe thead th {\n",
       "        text-align: right;\n",
       "    }\n",
       "</style>\n",
       "<table border=\"1\" class=\"dataframe\">\n",
       "  <thead>\n",
       "    <tr style=\"text-align: right;\">\n",
       "      <th></th>\n",
       "      <th>health_score</th>\n",
       "      <th>depression_score</th>\n",
       "    </tr>\n",
       "    <tr>\n",
       "      <th>id</th>\n",
       "      <th></th>\n",
       "      <th></th>\n",
       "    </tr>\n",
       "  </thead>\n",
       "  <tbody>\n",
       "    <tr>\n",
       "      <th>230</th>\n",
       "      <td>2.565523</td>\n",
       "      <td>0.125</td>\n",
       "    </tr>\n",
       "    <tr>\n",
       "      <th>232</th>\n",
       "      <td>2.552161</td>\n",
       "      <td>0.000</td>\n",
       "    </tr>\n",
       "    <tr>\n",
       "      <th>476</th>\n",
       "      <td>0.070495</td>\n",
       "      <td>0.000</td>\n",
       "    </tr>\n",
       "    <tr>\n",
       "      <th>486</th>\n",
       "      <td>1.063202</td>\n",
       "      <td>0.500</td>\n",
       "    </tr>\n",
       "    <tr>\n",
       "      <th>492</th>\n",
       "      <td>0.633270</td>\n",
       "      <td>0.500</td>\n",
       "    </tr>\n",
       "  </tbody>\n",
       "</table>\n",
       "</div>"
      ],
      "text/plain": [
       "     health_score  depression_score\n",
       "id                                 \n",
       "230      2.565523             0.125\n",
       "232      2.552161             0.000\n",
       "476      0.070495             0.000\n",
       "486      1.063202             0.500\n",
       "492      0.633270             0.500"
      ]
     },
     "execution_count": 13,
     "metadata": {},
     "output_type": "execute_result"
    }
   ],
   "source": [
    "health_score_df = health_score_df.groupby(['id']).mean()\n",
    "\n",
    "health_score_df.head()"
   ]
  },
  {
   "cell_type": "markdown",
   "metadata": {},
   "source": [
    "Notice that while `df`'s mean health score was 1, when it's grouped by user the mean health score decreases. This is likely explained by the fact that this dataset comes from mostly depressed individuals. So, when oriented in this manner the overall mean drops. More users are depressed in this dataset than they are happy. "
   ]
  },
  {
   "cell_type": "code",
   "execution_count": 14,
   "metadata": {},
   "outputs": [
    {
     "data": {
      "text/html": [
       "<div>\n",
       "<style scoped>\n",
       "    .dataframe tbody tr th:only-of-type {\n",
       "        vertical-align: middle;\n",
       "    }\n",
       "\n",
       "    .dataframe tbody tr th {\n",
       "        vertical-align: top;\n",
       "    }\n",
       "\n",
       "    .dataframe thead th {\n",
       "        text-align: right;\n",
       "    }\n",
       "</style>\n",
       "<table border=\"1\" class=\"dataframe\">\n",
       "  <thead>\n",
       "    <tr style=\"text-align: right;\">\n",
       "      <th></th>\n",
       "      <th>health_score</th>\n",
       "      <th>depression_score</th>\n",
       "    </tr>\n",
       "  </thead>\n",
       "  <tbody>\n",
       "    <tr>\n",
       "      <th>count</th>\n",
       "      <td>37.000000</td>\n",
       "      <td>37.000000</td>\n",
       "    </tr>\n",
       "    <tr>\n",
       "      <th>mean</th>\n",
       "      <td>0.772036</td>\n",
       "      <td>0.317568</td>\n",
       "    </tr>\n",
       "    <tr>\n",
       "      <th>std</th>\n",
       "      <td>0.730090</td>\n",
       "      <td>0.296968</td>\n",
       "    </tr>\n",
       "    <tr>\n",
       "      <th>min</th>\n",
       "      <td>0.050338</td>\n",
       "      <td>0.000000</td>\n",
       "    </tr>\n",
       "    <tr>\n",
       "      <th>25%</th>\n",
       "      <td>0.245307</td>\n",
       "      <td>0.000000</td>\n",
       "    </tr>\n",
       "    <tr>\n",
       "      <th>50%</th>\n",
       "      <td>0.502580</td>\n",
       "      <td>0.250000</td>\n",
       "    </tr>\n",
       "    <tr>\n",
       "      <th>75%</th>\n",
       "      <td>1.063202</td>\n",
       "      <td>0.500000</td>\n",
       "    </tr>\n",
       "    <tr>\n",
       "      <th>max</th>\n",
       "      <td>2.830069</td>\n",
       "      <td>1.000000</td>\n",
       "    </tr>\n",
       "  </tbody>\n",
       "</table>\n",
       "</div>"
      ],
      "text/plain": [
       "       health_score  depression_score\n",
       "count     37.000000         37.000000\n",
       "mean       0.772036          0.317568\n",
       "std        0.730090          0.296968\n",
       "min        0.050338          0.000000\n",
       "25%        0.245307          0.000000\n",
       "50%        0.502580          0.250000\n",
       "75%        1.063202          0.500000\n",
       "max        2.830069          1.000000"
      ]
     },
     "execution_count": 14,
     "metadata": {},
     "output_type": "execute_result"
    }
   ],
   "source": [
    "health_score_df.describe()"
   ]
  },
  {
   "cell_type": "markdown",
   "metadata": {},
   "source": [
    "## Machine learning\n",
    "In machine learning, models are usually categorized as either regressors or classifiers. The models I chose were all regressors, since I found working with only numerical data greatly simplified my workflow and meant that I could potentially finish on time.\n",
    "\n",
    "Now, we will train a model based on `healthScore` to predict `depression_score`. These models are bound to be incredibly simplistic, but I was really strapped for time and couldn't find a better alternative. In other words, we predicting whether or not a user will be depressed based off of the their monthly average health score. A health score report can be generated for a user based off of one month's worth of data provided by the user and then applied to the model. "
   ]
  },
  {
   "cell_type": "code",
   "execution_count": 15,
   "metadata": {},
   "outputs": [],
   "source": [
    "x = health_score_df['health_score']\n",
    "y = health_score_df['depression_score']\n",
    "\n",
    "x = x.to_numpy()\n",
    "y = y.to_numpy()\n",
    "\n",
    "x = x.reshape(-1, 1)"
   ]
  },
  {
   "cell_type": "code",
   "execution_count": 16,
   "metadata": {},
   "outputs": [
    {
     "name": "stdout",
     "output_type": "stream",
     "text": [
      "Linear Regression: 0.023437927166822248\n"
     ]
    }
   ],
   "source": [
    "from sklearn.linear_model import LinearRegression\n",
    "\n",
    "model = LinearRegression().fit(x, y)\n",
    "print(\"Linear Regression: \" + str(model.score(x, y)))"
   ]
  },
  {
   "cell_type": "markdown",
   "metadata": {},
   "source": [
    "Okay, so as I predicted this was terrible on my first try. Let's see what a linear regressor that is robust to outliers would report. I noticed that in my dataset there might have been a few outliers, and since the dataset is especially small perhaps this might make it perform better."
   ]
  },
  {
   "cell_type": "code",
   "execution_count": 17,
   "metadata": {},
   "outputs": [
    {
     "name": "stdout",
     "output_type": "stream",
     "text": [
      "Huber Regressor: 0.010105220917809077\n"
     ]
    }
   ],
   "source": [
    "from sklearn.linear_model import HuberRegressor\n",
    "\n",
    "model = HuberRegressor().fit(x, y)\n",
    "print(\"Huber Regressor: \" + str(model.score(x, y)))"
   ]
  },
  {
   "cell_type": "markdown",
   "metadata": {},
   "source": [
    "In this case, it did even worse— indicating that it's not the outliers that are the problem here. Perhaps it is also because my dataset is incredibly small. So, instead of using the health score I have generated, I have instead decided to train a model on the original 14 categories. "
   ]
  },
  {
   "cell_type": "code",
   "execution_count": 18,
   "metadata": {},
   "outputs": [
    {
     "name": "stdout",
     "output_type": "stream",
     "text": [
      "Linear Regression: 0.23491529916657639\n"
     ]
    }
   ],
   "source": [
    "x = df.iloc[:, 2:16]\n",
    "y = df['depression_score']\n",
    "\n",
    "model = LinearRegression().fit(x, y)\n",
    "print(\"Linear Regression: \" + str(model.score(x, y)))"
   ]
  },
  {
   "cell_type": "markdown",
   "metadata": {},
   "source": [
    "This is significantly better, as you can see. Perhaps my simplification based off of statistical averages was the incorrect approach after all. In the next section, I am going to try a lot of different regression methods and see how they all perform. The list includes:\n",
    "\n",
    "- [Bayesian ridge regression](https://scikit-learn.org/stable/modules/generated/sklearn.linear_model.BayesianRidge.html)\n",
    "- [Multi-layer Perceptron regressor](https://scikit-learn.org/stable/modules/generated/sklearn.neural_network.MLPRegressor.html#sklearn.neural_network.MLPRegressor)\n",
    "- [Epsilon-Support Vector Regression](https://scikit-learn.org/stable/modules/generated/sklearn.svm.SVR.html)\n",
    "- [Linear model fitted by minimizing a regularized empirical loss with SGD](https://scikit-learn.org/stable/modules/generated/sklearn.linear_model.SGDRegressor.html)\n",
    "    - SGD stands for Stochastic Gradient Descent: the gradient of the loss is estimated each sample at a time and the model is updated along the way with a decreasing strength schedule (aka learning rate).\n",
    "- [Regression based on k-nearest neighbors](https://scikit-learn.org/stable/modules/generated/sklearn.neighbors.KNeighborsRegressor.html)\n",
    "- [A decision tree regressor](https://scikit-learn.org/stable/modules/generated/sklearn.tree.DecisionTreeRegressor.html)\n",
    "\n",
    "My reasoning behind throwing so many different regression methods at this dataset is that I think examining the differences in their performance might yield noteworthy or insightful results. While I realize that this is not a realistic or sustainable method for huge datasets, I would still like to mention that a lot of computer science research papers seem to employ this method of trial and error."
   ]
  },
  {
   "cell_type": "code",
   "execution_count": 19,
   "metadata": {},
   "outputs": [
    {
     "name": "stdout",
     "output_type": "stream",
     "text": [
      "Bayesian regression score: 0.18148899671649765\n",
      "MLP regressor score: -29.142460920166037\n",
      "Support vector machines: 0.14541165621003727\n",
      "Stochastic gradient descent: 0.18239295547112477\n",
      "\n",
      "K-nearest neighbors: \n",
      "\t2-nearest neighbors: 0.21490940291727667\n",
      "\t3-nearest neighbors: 0.2122876674686094\n",
      "\t4-nearest neighbors: 0.24145447433503264\n",
      "\t5-nearest neighbors: 0.22434765053247885\n",
      "\t6-nearest neighbors: 0.2591809810618172\n",
      "\t7-nearest neighbors: 0.2477418969404751\n",
      "\t8-nearest neighbors: 0.24269458499470054\n",
      "\t9-nearest neighbors: 0.23845205760278365\n",
      "\t10-nearest neighbors: 0.25566547216474045\n",
      "\t11-nearest neighbors: 0.2806261270148619\n",
      "\t12-nearest neighbors: 0.26303910311411705\n",
      "\t13-nearest neighbors: 0.2581532297394844\n",
      "\n",
      "Decision trees: 0.04330490082269234\n"
     ]
    }
   ],
   "source": [
    "# This dataset is somewhat small, as it contains only the monthly data.\n",
    "# Still, splitting it into train and test is a good idea.\n",
    "from sklearn.model_selection import train_test_split\n",
    "x, x_test, y, y_test = train_test_split(x, y, test_size=0.33, random_state=42)\n",
    "\n",
    "# Linear regressors\n",
    "from sklearn.linear_model import BayesianRidge\n",
    "model = BayesianRidge().fit(x, y)\n",
    "print(\"Bayesian regression score: \" + str(model.score(x_test, y_test)))\n",
    "\n",
    "# Neural networks\n",
    "from sklearn.neural_network import MLPRegressor\n",
    "model = MLPRegressor(random_state=1, max_iter=500).fit(x, y)\n",
    "print(\"MLP regressor score: \" + str(model.score(x_test, y_test)))\n",
    "\n",
    "# Support vector machines\n",
    "from sklearn import svm\n",
    "model = svm.SVR().fit(x, y)\n",
    "print(\"Support vector machines: \" + str(model.score(x_test, y_test)))\n",
    "\n",
    "# Stochastic gradient descent\n",
    "from sklearn.linear_model import SGDRegressor\n",
    "from sklearn.pipeline import make_pipeline\n",
    "from sklearn.preprocessing import StandardScaler\n",
    "model = make_pipeline(StandardScaler(),\n",
    "                    SGDRegressor(max_iter=1000, tol=1e-3))\n",
    "model.fit(x, y)\n",
    "print(\"Stochastic gradient descent: \" + str(model.score(x_test, y_test)))\n",
    "\n",
    "# Nearest neighbors\n",
    "from sklearn import neighbors\n",
    "\n",
    "scores = []\n",
    "\n",
    "print(\"\\nK-nearest neighbors: \")\n",
    "for k in range(2,14):\n",
    "    model = neighbors.KNeighborsRegressor(n_neighbors=k)\n",
    "    model.fit(x, y)\n",
    "\n",
    "    scores.append({\n",
    "        'k': k,\n",
    "        'score': model.score(x_test, y_test)\n",
    "    })\n",
    "\n",
    "    print('\\t' + str(k) + \"-nearest neighbors: \" + str(model.score(x_test, y_test)))\n",
    "\n",
    "# Decision trees\n",
    "from sklearn import tree\n",
    "model = tree.DecisionTreeRegressor()\n",
    "model = model.fit(x, y)\n",
    "print(\"\\nDecision trees: \" + str(model.score(x_test, y_test)))"
   ]
  },
  {
   "cell_type": "code",
   "execution_count": 20,
   "metadata": {},
   "outputs": [
    {
     "data": {
      "text/plain": [
       "<AxesSubplot:xlabel='k', ylabel='score'>"
      ]
     },
     "execution_count": 20,
     "metadata": {},
     "output_type": "execute_result"
    },
    {
     "data": {
      "image/png": "[encoded data removed]",
      "text/plain": [
       "<Figure size 432x288 with 1 Axes>"
      ]
     },
     "metadata": {
      "needs_background": "light"
     },
     "output_type": "display_data"
    }
   ],
   "source": [
    "scores = pd.DataFrame(scores)\n",
    "scores.plot.scatter(s=75, y='score', x='k')"
   ]
  },
  {
   "cell_type": "markdown",
   "metadata": {},
   "source": [
    "As you can see above, the more neighbors we add to the K-nearest neighbors algorithm, the better the accuracy becomes. The decision tree were also completley inaccurate. Because I think this is a case of overfitting, I decided to try a Random Forest regression method in order to avoid decision tree overfitting and because I could iterate over max depth and examine the results there."
   ]
  },
  {
   "cell_type": "code",
   "execution_count": 21,
   "metadata": {},
   "outputs": [
    {
     "name": "stdout",
     "output_type": "stream",
     "text": [
      "(depth 2) Random forest: 0.3010067191678357\n",
      "(depth 3) Random forest: 0.345557779125812\n",
      "(depth 4) Random forest: 0.38401248818121136\n",
      "(depth 5) Random forest: 0.43430820637030054\n",
      "(depth 6) Random forest: 0.4446332850210216\n",
      "(depth 7) Random forest: 0.45765355227861526\n",
      "(depth 8) Random forest: 0.4616343351606619\n",
      "(depth 9) Random forest: 0.4707539501228768\n",
      "(depth 10) Random forest: 0.46831861151182086\n",
      "(depth 11) Random forest: 0.4778991768919949\n",
      "(depth 12) Random forest: 0.47845267477819486\n",
      "(depth 13) Random forest: 0.4730744438805963\n"
     ]
    }
   ],
   "source": [
    "from sklearn.ensemble import RandomForestRegressor\n",
    "\n",
    "scores = []\n",
    "\n",
    "for i in range(2,14):\n",
    "    model = RandomForestRegressor(max_depth=i, random_state=0)\n",
    "    model.fit(x, y)\n",
    "\n",
    "    scores.append({\n",
    "        'max_depth': i,\n",
    "        'score': model.score(x_test, y_test)\n",
    "    })\n",
    "\n",
    "    print(\"(depth \" + str(i) + \") Random forest: \" + str(model.score(x_test, y_test)))"
   ]
  },
  {
   "cell_type": "code",
   "execution_count": 22,
   "metadata": {},
   "outputs": [
    {
     "data": {
      "text/plain": [
       "<AxesSubplot:xlabel='max_depth', ylabel='score'>"
      ]
     },
     "execution_count": 22,
     "metadata": {},
     "output_type": "execute_result"
    },
    {
     "data": {
      "image/png": "[encoded data removed]",
      "text/plain": [
       "<Figure size 432x288 with 1 Axes>"
      ]
     },
     "metadata": {
      "needs_background": "light"
     },
     "output_type": "display_data"
    }
   ],
   "source": [
    "scores = pd.DataFrame(scores)\n",
    "scores.plot.scatter(s=75, y='score', x='max_depth')"
   ]
  },
  {
   "cell_type": "markdown",
   "metadata": {},
   "source": [
    "As you can see, as the `max_depth` of the random forest increases, it approaches better accuracy until it hits an inflection point. This is in line with my current understanding of how this model works. Seeing that it has the least propensity for overfitting and the best accuracy out of all the models I tried so far, I chose this as my final model, specifically with  `max_depth = 6` to avoid overfitting."
   ]
  },
  {
   "cell_type": "code",
   "execution_count": 23,
   "metadata": {},
   "outputs": [
    {
     "name": "stdout",
     "output_type": "stream",
     "text": [
      "no display found. Using non-interactive Agg backend\n",
      "\n",
      "Regression statistics\n",
      "\n",
      "               Mean Error (ME) : 0.0105\n",
      "Root Mean Squared Error (RMSE) : 0.2182\n",
      "     Mean Absolute Error (MAE) : 0.1607\n"
     ]
    }
   ],
   "source": [
    "model = RandomForestRegressor(max_depth=6, random_state=0)\n",
    "model.fit(x, y)\n",
    "\n",
    "from dmba import regressionSummary\n",
    "regressionSummary(y_test, model.predict(x_test))"
   ]
  },
  {
   "cell_type": "markdown",
   "metadata": {},
   "source": [
    "Let's try some other linear regression models— mainly forward selection, backwards elimination and stepwise refinement. First I define some helper functions."
   ]
  },
  {
   "cell_type": "code",
   "execution_count": 24,
   "metadata": {},
   "outputs": [],
   "source": [
    "from dmba import AIC_score\n",
    "\n",
    "# First, let's define some helper functions.\n",
    "def train_model(variables):\n",
    "    if len(variables) == 0:\n",
    "        return None\n",
    "    model = LinearRegression()\n",
    "    model.fit(x[variables], y)\n",
    "    return model\n",
    "\n",
    "def score_model(model, variables):\n",
    "    if len(variables) == 0:\n",
    "       return AIC_score(y, [y.mean()] * len(y), model, df=1)\n",
    "    return AIC_score(y, model.predict(x[variables]), model)"
   ]
  },
  {
   "cell_type": "markdown",
   "metadata": {},
   "source": [
    "### Forward selection\n",
    "- Start with no predictors\n",
    "- Add them one by one (add the one with largest contribution)\n",
    "- Stop when the addition is not statistically significant"
   ]
  },
  {
   "cell_type": "code",
   "execution_count": 25,
   "metadata": {},
   "outputs": [
    {
     "name": "stdout",
     "output_type": "stream",
     "text": [
      "Variables: CLEAN, COOK, DRINK, EAT, GO TO BATHROOM, GO WALK, NONE, SLEEP, TAKE MEDICINE, TAKE SHOWER, WAKE UP, WASH DISHES, WATCH TV, WORK OUT\n",
      "Start: score=67.29, constant\n",
      "Step: score=56.34, add NONE\n",
      "Step: score=46.08, add GO TO BATHROOM\n",
      "Step: score=40.77, add SLEEP\n",
      "Step: score=38.70, add CLEAN\n",
      "Step: score=38.70, add None\n",
      "\n",
      "Best variables: ['NONE', 'GO TO BATHROOM', 'SLEEP', 'CLEAN']\n",
      "\n",
      "Regression statistics\n",
      "\n",
      "               Mean Error (ME) : 0.0244\n",
      "Root Mean Squared Error (RMSE) : 0.2590\n",
      "     Mean Absolute Error (MAE) : 0.2101\n"
     ]
    }
   ],
   "source": [
    "from dmba import forward_selection\n",
    "    \n",
    "best_model, best_variables = forward_selection(x.columns, train_model, score_model,verbose=True)\n",
    "\n",
    "print(\"\\nBest variables: \" + str(best_variables))\n",
    "regressionSummary(y_test, best_model.predict(x_test[best_variables]))"
   ]
  },
  {
   "cell_type": "markdown",
   "metadata": {},
   "source": [
    "### Backwards Elimination\n",
    "- Start with all predictors\n",
    "- Successively eliminate least useful predictors one by one\n",
    "- Stop when all remaining predictors have statistically significant contribution"
   ]
  },
  {
   "cell_type": "code",
   "execution_count": 26,
   "metadata": {},
   "outputs": [
    {
     "name": "stdout",
     "output_type": "stream",
     "text": [
      "Variables: CLEAN, COOK, DRINK, EAT, GO TO BATHROOM, GO WALK, NONE, SLEEP, TAKE MEDICINE, TAKE SHOWER, WAKE UP, WASH DISHES, WATCH TV, WORK OUT\n",
      "Start: score=53.41\n",
      "Step: score=51.41, remove TAKE SHOWER\n",
      "Step: score=49.41, remove WATCH TV\n",
      "Step: score=47.41, remove TAKE MEDICINE\n",
      "Step: score=45.48, remove WAKE UP\n",
      "Step: score=43.73, remove EAT\n",
      "Step: score=42.18, remove DRINK\n",
      "Step: score=41.24, remove WORK OUT\n",
      "Step: score=40.34, remove WASH DISHES\n",
      "Step: score=39.30, remove COOK\n",
      "Step: score=38.70, remove GO WALK\n",
      "Step: score=38.70, remove None\n",
      "\n",
      "Best variables: ['CLEAN', 'GO TO BATHROOM', 'NONE', 'SLEEP']\n",
      "\n",
      "Regression statistics\n",
      "\n",
      "               Mean Error (ME) : 0.0244\n",
      "Root Mean Squared Error (RMSE) : 0.2590\n",
      "     Mean Absolute Error (MAE) : 0.2101\n"
     ]
    }
   ],
   "source": [
    "from dmba import backward_elimination\n",
    "allVariables = x.columns\n",
    "\n",
    "best_model, best_variables = backward_elimination(allVariables, train_model, score_model, verbose=True)\n",
    "\n",
    "print(\"\\nBest variables: \" + str(best_variables))\n",
    "regressionSummary(y_test, best_model.predict(x_test[best_variables]))"
   ]
  },
  {
   "cell_type": "markdown",
   "metadata": {},
   "source": [
    "Interestingly this is different from my findings in project 2, wherein each method returned the exact same variables. We can already see now that the selected best variables are different!\n",
    "\n",
    "### Stepwise refinement\n",
    "- Like forward selection\t\n",
    "- Except at each step, also consider dropping non-significant predictors"
   ]
  },
  {
   "cell_type": "code",
   "execution_count": 27,
   "metadata": {},
   "outputs": [
    {
     "name": "stdout",
     "output_type": "stream",
     "text": [
      "Variables: CLEAN, COOK, DRINK, EAT, GO TO BATHROOM, GO WALK, NONE, SLEEP, TAKE MEDICINE, TAKE SHOWER, WAKE UP, WASH DISHES, WATCH TV, WORK OUT\n",
      "Start: score=67.29, constant\n",
      "Step: score=56.34, add NONE\n",
      "Step: score=46.08, add GO TO BATHROOM\n",
      "Step: score=40.77, add SLEEP\n",
      "Step: score=38.70, add CLEAN\n",
      "Step: score=38.70, unchanged None\n",
      "\n",
      "Best variables: ['NONE', 'GO TO BATHROOM', 'SLEEP', 'CLEAN']\n",
      "\n",
      "Regression statistics\n",
      "\n",
      "               Mean Error (ME) : 0.0244\n",
      "Root Mean Squared Error (RMSE) : 0.2590\n",
      "     Mean Absolute Error (MAE) : 0.2101\n"
     ]
    }
   ],
   "source": [
    "from dmba import stepwise_selection\n",
    "best_model, best_variables = stepwise_selection(x.columns, train_model, score_model, verbose=True)\n",
    "\n",
    "print(\"\\nBest variables: \" + str(best_variables))\n",
    "regressionSummary(y_test, best_model.predict(x_test[best_variables]))"
   ]
  },
  {
   "cell_type": "markdown",
   "metadata": {},
   "source": [
    "All of them gave me the same best variables: `['NONE', 'GO TO BATHROOM', 'SLEEP', 'CLEAN']`. So I will use these and try to test again with less variables, and see if it increases my model accuracy. "
   ]
  },
  {
   "cell_type": "code",
   "execution_count": 28,
   "metadata": {},
   "outputs": [],
   "source": [
    "x = df[['NONE', 'GO TO BATHROOM', 'SLEEP', 'CLEAN']]\n",
    "y = df['depression_score']\n",
    "\n",
    "x, x_test, y, y_test = train_test_split(x, y, test_size=0.33, random_state=42)"
   ]
  },
  {
   "cell_type": "code",
   "execution_count": 29,
   "metadata": {},
   "outputs": [
    {
     "name": "stdout",
     "output_type": "stream",
     "text": [
      "Bayesian regression score: 0.16967866919825914\n",
      "MLP regressor score: -104.33060888885342\n",
      "Support vector machines: 0.1930664155061329\n",
      "Stochastic gradient descent: 0.20651204868223205\n",
      "\n",
      "K-nearest neighbors: \n",
      "\t2-nearest neighbors: 0.22295336395296028\n",
      "\t3-nearest neighbors: 0.2234896280220059\n",
      "\t4-nearest neighbors: 0.2532522838540353\n",
      "\t5-nearest neighbors: 0.24502599303487627\n",
      "\t6-nearest neighbors: 0.24511894547351054\n",
      "\t7-nearest neighbors: 0.22497803441772413\n",
      "\t8-nearest neighbors: 0.21219456606773335\n",
      "\t9-nearest neighbors: 0.20119163562020959\n",
      "\t10-nearest neighbors: 0.19807071114924546\n",
      "\t11-nearest neighbors: 0.20716238149007282\n",
      "\t12-nearest neighbors: 0.2171885252107204\n",
      "\t13-nearest neighbors: 0.22156034663751045\n",
      "\n",
      "Decision trees: -0.10255892595770444\n"
     ]
    }
   ],
   "source": [
    "# Linear regressors\n",
    "from sklearn.linear_model import BayesianRidge\n",
    "model = BayesianRidge().fit(x, y)\n",
    "print(\"Bayesian regression score: \" + str(model.score(x_test, y_test)))\n",
    "\n",
    "# Neural networks\n",
    "from sklearn.neural_network import MLPRegressor\n",
    "model = MLPRegressor(random_state=1, max_iter=500).fit(x, y)\n",
    "print(\"MLP regressor score: \" + str(model.score(x_test, y_test)))\n",
    "\n",
    "# Support vector machines\n",
    "from sklearn import svm\n",
    "model = svm.SVR().fit(x, y)\n",
    "print(\"Support vector machines: \" + str(model.score(x_test, y_test)))\n",
    "\n",
    "# Stochastic gradient descent\n",
    "from sklearn.linear_model import SGDRegressor\n",
    "from sklearn.pipeline import make_pipeline\n",
    "from sklearn.preprocessing import StandardScaler\n",
    "model = make_pipeline(StandardScaler(),\n",
    "                    SGDRegressor(max_iter=1000, tol=1e-3))\n",
    "model.fit(x, y)\n",
    "print(\"Stochastic gradient descent: \" + str(model.score(x_test, y_test)))\n",
    "\n",
    "# Nearest neighbors\n",
    "from sklearn import neighbors\n",
    "\n",
    "scores = []\n",
    "\n",
    "print(\"\\nK-nearest neighbors: \")\n",
    "for k in range(2,14):\n",
    "    model = neighbors.KNeighborsRegressor(n_neighbors=k)\n",
    "    model.fit(x, y)\n",
    "\n",
    "    scores.append({\n",
    "        'k': k,\n",
    "        'score': model.score(x_test, y_test)\n",
    "    })\n",
    "\n",
    "    print('\\t' + str(k) + \"-nearest neighbors: \" + str(model.score(x_test, y_test)))\n",
    "\n",
    "# Decision trees\n",
    "from sklearn import tree\n",
    "model = tree.DecisionTreeRegressor()\n",
    "model = model.fit(x, y)\n",
    "print(\"\\nDecision trees: \" + str(model.score(x_test, y_test)))"
   ]
  },
  {
   "cell_type": "code",
   "execution_count": 30,
   "metadata": {},
   "outputs": [
    {
     "data": {
      "text/plain": [
       "<AxesSubplot:xlabel='k', ylabel='score'>"
      ]
     },
     "execution_count": 30,
     "metadata": {},
     "output_type": "execute_result"
    },
    {
     "data": {
      "image/png": "[encoded data removed]",
      "text/plain": [
       "<Figure size 432x288 with 1 Axes>"
      ]
     },
     "metadata": {
      "needs_background": "light"
     },
     "output_type": "display_data"
    }
   ],
   "source": [
    "scores = pd.DataFrame(scores)\n",
    "scores.plot.scatter(s=75, y='score', x='k')"
   ]
  },
  {
   "cell_type": "code",
   "execution_count": 31,
   "metadata": {},
   "outputs": [
    {
     "name": "stdout",
     "output_type": "stream",
     "text": [
      "(depth 2) Random forest: 0.30690193018299083\n",
      "(depth 3) Random forest: 0.33521720731087956\n",
      "(depth 4) Random forest: 0.34137087919341924\n",
      "(depth 5) Random forest: 0.3484054075818014\n",
      "(depth 6) Random forest: 0.3562394808417738\n",
      "(depth 7) Random forest: 0.347238455418145\n",
      "(depth 8) Random forest: 0.3409519617406013\n",
      "(depth 9) Random forest: 0.32718864323742025\n",
      "(depth 10) Random forest: 0.31114315298572115\n",
      "(depth 11) Random forest: 0.30445231350821855\n",
      "(depth 12) Random forest: 0.28659351501675934\n",
      "(depth 13) Random forest: 0.27925387467490903\n"
     ]
    }
   ],
   "source": [
    "scores = []\n",
    "\n",
    "for i in range(2,14):\n",
    "    model = RandomForestRegressor(max_depth=i, random_state=0)\n",
    "    model.fit(x, y)\n",
    "\n",
    "    scores.append({\n",
    "        'max_depth': i,\n",
    "        'score': model.score(x_test, y_test)\n",
    "    })\n",
    "\n",
    "    print(\"(depth \" + str(i) + \") Random forest: \" + str(model.score(x_test, y_test)))"
   ]
  },
  {
   "cell_type": "markdown",
   "metadata": {},
   "source": [
    "Here we can see the best random forest model outperforms the other models in regression accuracy. The best model can be found at `max_depth = 6`. Unfortunately, this model is still incredibly low accuracy."
   ]
  },
  {
   "cell_type": "code",
   "execution_count": 32,
   "metadata": {},
   "outputs": [
    {
     "data": {
      "text/plain": [
       "<AxesSubplot:xlabel='max_depth', ylabel='score'>"
      ]
     },
     "execution_count": 32,
     "metadata": {},
     "output_type": "execute_result"
    },
    {
     "data": {
      "image/png": "[encoded data removed]",
      "text/plain": [
       "<Figure size 432x288 with 1 Axes>"
      ]
     },
     "metadata": {
      "needs_background": "light"
     },
     "output_type": "display_data"
    }
   ],
   "source": [
    "scores = pd.DataFrame(scores)\n",
    "scores.plot.scatter(s=75, y='score', x='max_depth')"
   ]
  },
  {
   "cell_type": "markdown",
   "metadata": {},
   "source": [
    "I'm not entirely sure why the accuracy is so low. I've tried almost every method I could and the only conclusion I can come up with is that perhaps the data might be difficult for these algorithms to accurately regress the `depression_score`. This brings me back to my original point of the `depression_score` variable not being granular enough. This method would work significantly better in the case that `depression_score` is provided on a monthly or even yearly basis— seeing as it was provided only once.  "
   ]
  },
  {
   "cell_type": "code",
   "execution_count": 33,
   "metadata": {},
   "outputs": [
    {
     "name": "stdout",
     "output_type": "stream",
     "text": [
      "\n",
      "Regression statistics\n",
      "\n",
      "               Mean Error (ME) : 0.0104\n",
      "Root Mean Squared Error (RMSE) : 0.2349\n",
      "     Mean Absolute Error (MAE) : 0.1627\n"
     ]
    }
   ],
   "source": [
    "model = RandomForestRegressor(max_depth=6, random_state=0)\n",
    "model.fit(x, y)\n",
    "\n",
    "from dmba import regressionSummary\n",
    "regressionSummary(y_test, model.predict(x_test))"
   ]
  },
  {
   "cell_type": "markdown",
   "metadata": {},
   "source": [
    "Another point I feel I must make is that it appears that something about my method of calculating error (using scikit-learn's built-in tools) might be overreporting, since using the `dmba` package seems to report significantly lower amounts of error. I'm not sure which one to trust, but for the score of my project I am hoping you will look on the bright side. \n",
    "\n",
    "## Monthly health report\n",
    "So, in order to generate a monthly health report a user should submit a month's worth of their data logged in hours. Then, the trained model can predict the \"depression_level\" for a user, which can be translated into human terms (e.g. \"normal,\" or \"severe\"). Then, the application can ask the user whether or not they were feeling okay this past month. At the moment, it cannot give them any more specific advice on how to \"get better.\" \n",
    "\n",
    "One thing that would have been immensely helpful for this project would be if we were provided monthly updates on depression levels.\n",
    "\n",
    "In the next code sections, I will take a sample of data from user 519 during August of 2020 and February of 2021 and generate the information required for the monthly health report. The final page of this report should show the monthly health report."
   ]
  },
  {
   "cell_type": "code",
   "execution_count": 34,
   "metadata": {},
   "outputs": [
    {
     "data": {
      "text/plain": [
       "array([0.3388604])"
      ]
     },
     "execution_count": 34,
     "metadata": {},
     "output_type": "execute_result"
    }
   ],
   "source": [
    "sample = df.loc[df['id'] == 519]\n",
    "sample = sample.loc[df['month'] == 'Sep2020']\n",
    "\n",
    "x = sample[['NONE', 'GO TO BATHROOM', 'SLEEP', 'CLEAN']]\n",
    "y = sample['depression_score']\n",
    "\n",
    "model.predict(x)"
   ]
  },
  {
   "cell_type": "code",
   "execution_count": 35,
   "metadata": {},
   "outputs": [
    {
     "data": {
      "text/plain": [
       "array([0.29010589])"
      ]
     },
     "execution_count": 35,
     "metadata": {},
     "output_type": "execute_result"
    }
   ],
   "source": [
    "sample = df.loc[df['id'] == 519]\n",
    "sample = sample.loc[df['month'] == 'Aug2020']\n",
    "\n",
    "x = sample[['NONE', 'GO TO BATHROOM', 'SLEEP', 'CLEAN']]\n",
    "y = sample['depression_score']\n",
    "\n",
    "model.predict(x)"
   ]
  }
 ],
 "metadata": {
  "colab": {
   "collapsed_sections": [],
   "name": "life_pattern_report.ipynb",
   "provenance": []
  },
  "interpreter": {
   "hash": "4819c86b0803b63eda5c80188db09eae02dd758e6a1d1e621a4bb079b51c98ba"
  },
  "kernelspec": {
   "display_name": "Python 3 (ipykernel)",
   "language": "python",
   "name": "python3"
  },
  "language_info": {
   "codemirror_mode": {
    "name": "ipython",
    "version": 3
   },
   "file_extension": ".py",
   "mimetype": "text/x-python",
   "name": "python",
   "nbconvert_exporter": "python",
   "pygments_lexer": "ipython3",
   "version": "3.9.12"
  }
 },
 "nbformat": 4,
 "nbformat_minor": 1
}
